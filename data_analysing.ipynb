{
 "cells": [
  {
   "cell_type": "markdown",
   "id": "6d64d7d9",
   "metadata": {},
   "source": [
    "# Présentation du sujet"
   ]
  },
  {
   "cell_type": "markdown",
   "id": "bb84bf31",
   "metadata": {},
   "source": [
    "### Introduction au Dataset\n",
    "\n",
    "Notre projet se base sur un dataset **Craigslist**, une plateforme de petites annonces populaires pour vendre une voiture d'occasion aux Etats-Unis . \n",
    "\n",
    "Ce jeu de données contient des informations sur des **véhicules à vendre**, offrant une vue détaillée sur le marché américain de l'occasion. Avec **426880 lignes et 26 colonnes**, il représente une richesse d'informations pour comprendre les dynamiques de vente et les facteurs influençant le prix des véhicules."
   ]
  },
  {
   "cell_type": "markdown",
   "id": "3371b3ad",
   "metadata": {},
   "source": [
    "**Explication des variables**"
   ]
  },
  {
   "cell_type": "markdown",
   "id": "d54c1168",
   "metadata": {},
   "source": [
    "Voici la description et la signification de chaque variable du dataset :\n",
    "\n",
    "\n",
    "* **`id`** : Un identifiant unique pour chaque annonce de véhicule.\n",
    "* **`url`** : 'URL originale de l'annonce sur Craigslist.\n",
    "* **`region`** : La région géographique de Craigslist où l'annonce a été publiée.\n",
    "* **`region_url`** : 'URL spécifique de la région Craigslist associée à l'annonce.\n",
    "* **`price`** : e prix de vente affiché pour le véhicule.\n",
    "* **`year`** : L'année de fabrication du véhicule.\n",
    "* **`manufacturer`** : Le fabricant ou la marque du véhicule.\n",
    "* **`model`** :  Le modèle spécifique du véhicule.\n",
    "* **`condition`** :  L'état général du véhicule tel que décrit par le vendeur.\n",
    "* **`cylinders`** : Le nombre de cylindres dans le moteur du véhicule.\n",
    "* **`fuel`** : Le type de carburant que le véhicule utilise.\n",
    "* **`odometer`** :  Le kilométrage du véhicule.\n",
    "* **`title_status`** :  Le statut du titre de propriété du véhicule.\n",
    "* **`transmission`** :  Le type de transmission du véhicule.\n",
    "* **`VIN`** :  Le numéro d'identification unique du véhicule.\n",
    "* **`drive`** :  Le type de transmission aux roues (traction avant, propulsion arrière, quatre roues motrices).\n",
    "* **`size`** : La taille du véhicule.\n",
    "* **`type`** :  Le type de carrosserie du véhicule.\n",
    "* **`paint_color`** : La couleur extérieure du véhicule.\n",
    "* **`image_url`** : L'URL de l'image principale du véhicule dans l'annonce.\n",
    "* **`description`** : Le texte de description libre de l'annonce, fourni par le vendeur.\n",
    "* **`county`** : Le comté ou la division administrative locale de l'annonce.\n",
    "* **`state`** : L'état américain où l'annonce a été publiée.\n",
    "* **`lat` (Latitude)** : La coordonnée de latitude de l'emplacement du véhicule.\n",
    "* **`long` (Longitude)** : La coordonnée de longitude de l'emplacement du véhicule.\n",
    "* **`posting_date`** : La date à laquelle l'annonce a été publiée.\n",
    "\n",
    "---"
   ]
  },
  {
   "cell_type": "markdown",
   "id": "2f5e215d",
   "metadata": {},
   "source": [
    "### Libraries"
   ]
  },
  {
   "cell_type": "code",
   "execution_count": 5,
   "id": "1bd0f6e2",
   "metadata": {},
   "outputs": [],
   "source": [
    "import numpy as np\n",
    "import pandas as pd\n",
    "import matplotlib.pyplot as plt\n",
    "import seaborn as sns"
   ]
  },
  {
   "cell_type": "markdown",
   "id": "bc2d03ce",
   "metadata": {},
   "source": [
    "### Analyse exploratoire"
   ]
  },
  {
   "cell_type": "code",
   "execution_count": 6,
   "id": "d3c84058",
   "metadata": {},
   "outputs": [],
   "source": [
    "# import du dataset\n",
    "df = pd.read_csv(\"vehicles.csv\")"
   ]
  },
  {
   "cell_type": "code",
   "execution_count": 7,
   "id": "6d6492a6",
   "metadata": {},
   "outputs": [
    {
     "data": {
      "text/html": [
       "<div>\n",
       "<style scoped>\n",
       "    .dataframe tbody tr th:only-of-type {\n",
       "        vertical-align: middle;\n",
       "    }\n",
       "\n",
       "    .dataframe tbody tr th {\n",
       "        vertical-align: top;\n",
       "    }\n",
       "\n",
       "    .dataframe thead th {\n",
       "        text-align: right;\n",
       "    }\n",
       "</style>\n",
       "<table border=\"1\" class=\"dataframe\">\n",
       "  <thead>\n",
       "    <tr style=\"text-align: right;\">\n",
       "      <th></th>\n",
       "      <th>id</th>\n",
       "      <th>url</th>\n",
       "      <th>region</th>\n",
       "      <th>region_url</th>\n",
       "      <th>price</th>\n",
       "      <th>year</th>\n",
       "      <th>manufacturer</th>\n",
       "      <th>model</th>\n",
       "      <th>condition</th>\n",
       "      <th>cylinders</th>\n",
       "      <th>...</th>\n",
       "      <th>size</th>\n",
       "      <th>type</th>\n",
       "      <th>paint_color</th>\n",
       "      <th>image_url</th>\n",
       "      <th>description</th>\n",
       "      <th>county</th>\n",
       "      <th>state</th>\n",
       "      <th>lat</th>\n",
       "      <th>long</th>\n",
       "      <th>posting_date</th>\n",
       "    </tr>\n",
       "  </thead>\n",
       "  <tbody>\n",
       "    <tr>\n",
       "      <th>0</th>\n",
       "      <td>7222695916</td>\n",
       "      <td>https://prescott.craigslist.org/cto/d/prescott...</td>\n",
       "      <td>prescott</td>\n",
       "      <td>https://prescott.craigslist.org</td>\n",
       "      <td>6000</td>\n",
       "      <td>NaN</td>\n",
       "      <td>NaN</td>\n",
       "      <td>NaN</td>\n",
       "      <td>NaN</td>\n",
       "      <td>NaN</td>\n",
       "      <td>...</td>\n",
       "      <td>NaN</td>\n",
       "      <td>NaN</td>\n",
       "      <td>NaN</td>\n",
       "      <td>NaN</td>\n",
       "      <td>NaN</td>\n",
       "      <td>NaN</td>\n",
       "      <td>az</td>\n",
       "      <td>NaN</td>\n",
       "      <td>NaN</td>\n",
       "      <td>NaN</td>\n",
       "    </tr>\n",
       "    <tr>\n",
       "      <th>1</th>\n",
       "      <td>7218891961</td>\n",
       "      <td>https://fayar.craigslist.org/ctd/d/bentonville...</td>\n",
       "      <td>fayetteville</td>\n",
       "      <td>https://fayar.craigslist.org</td>\n",
       "      <td>11900</td>\n",
       "      <td>NaN</td>\n",
       "      <td>NaN</td>\n",
       "      <td>NaN</td>\n",
       "      <td>NaN</td>\n",
       "      <td>NaN</td>\n",
       "      <td>...</td>\n",
       "      <td>NaN</td>\n",
       "      <td>NaN</td>\n",
       "      <td>NaN</td>\n",
       "      <td>NaN</td>\n",
       "      <td>NaN</td>\n",
       "      <td>NaN</td>\n",
       "      <td>ar</td>\n",
       "      <td>NaN</td>\n",
       "      <td>NaN</td>\n",
       "      <td>NaN</td>\n",
       "    </tr>\n",
       "    <tr>\n",
       "      <th>2</th>\n",
       "      <td>7221797935</td>\n",
       "      <td>https://keys.craigslist.org/cto/d/summerland-k...</td>\n",
       "      <td>florida keys</td>\n",
       "      <td>https://keys.craigslist.org</td>\n",
       "      <td>21000</td>\n",
       "      <td>NaN</td>\n",
       "      <td>NaN</td>\n",
       "      <td>NaN</td>\n",
       "      <td>NaN</td>\n",
       "      <td>NaN</td>\n",
       "      <td>...</td>\n",
       "      <td>NaN</td>\n",
       "      <td>NaN</td>\n",
       "      <td>NaN</td>\n",
       "      <td>NaN</td>\n",
       "      <td>NaN</td>\n",
       "      <td>NaN</td>\n",
       "      <td>fl</td>\n",
       "      <td>NaN</td>\n",
       "      <td>NaN</td>\n",
       "      <td>NaN</td>\n",
       "    </tr>\n",
       "    <tr>\n",
       "      <th>3</th>\n",
       "      <td>7222270760</td>\n",
       "      <td>https://worcester.craigslist.org/cto/d/west-br...</td>\n",
       "      <td>worcester / central MA</td>\n",
       "      <td>https://worcester.craigslist.org</td>\n",
       "      <td>1500</td>\n",
       "      <td>NaN</td>\n",
       "      <td>NaN</td>\n",
       "      <td>NaN</td>\n",
       "      <td>NaN</td>\n",
       "      <td>NaN</td>\n",
       "      <td>...</td>\n",
       "      <td>NaN</td>\n",
       "      <td>NaN</td>\n",
       "      <td>NaN</td>\n",
       "      <td>NaN</td>\n",
       "      <td>NaN</td>\n",
       "      <td>NaN</td>\n",
       "      <td>ma</td>\n",
       "      <td>NaN</td>\n",
       "      <td>NaN</td>\n",
       "      <td>NaN</td>\n",
       "    </tr>\n",
       "    <tr>\n",
       "      <th>4</th>\n",
       "      <td>7210384030</td>\n",
       "      <td>https://greensboro.craigslist.org/cto/d/trinit...</td>\n",
       "      <td>greensboro</td>\n",
       "      <td>https://greensboro.craigslist.org</td>\n",
       "      <td>4900</td>\n",
       "      <td>NaN</td>\n",
       "      <td>NaN</td>\n",
       "      <td>NaN</td>\n",
       "      <td>NaN</td>\n",
       "      <td>NaN</td>\n",
       "      <td>...</td>\n",
       "      <td>NaN</td>\n",
       "      <td>NaN</td>\n",
       "      <td>NaN</td>\n",
       "      <td>NaN</td>\n",
       "      <td>NaN</td>\n",
       "      <td>NaN</td>\n",
       "      <td>nc</td>\n",
       "      <td>NaN</td>\n",
       "      <td>NaN</td>\n",
       "      <td>NaN</td>\n",
       "    </tr>\n",
       "  </tbody>\n",
       "</table>\n",
       "<p>5 rows × 26 columns</p>\n",
       "</div>"
      ],
      "text/plain": [
       "           id                                                url  \\\n",
       "0  7222695916  https://prescott.craigslist.org/cto/d/prescott...   \n",
       "1  7218891961  https://fayar.craigslist.org/ctd/d/bentonville...   \n",
       "2  7221797935  https://keys.craigslist.org/cto/d/summerland-k...   \n",
       "3  7222270760  https://worcester.craigslist.org/cto/d/west-br...   \n",
       "4  7210384030  https://greensboro.craigslist.org/cto/d/trinit...   \n",
       "\n",
       "                   region                         region_url  price  year  \\\n",
       "0                prescott    https://prescott.craigslist.org   6000   NaN   \n",
       "1            fayetteville       https://fayar.craigslist.org  11900   NaN   \n",
       "2            florida keys        https://keys.craigslist.org  21000   NaN   \n",
       "3  worcester / central MA   https://worcester.craigslist.org   1500   NaN   \n",
       "4              greensboro  https://greensboro.craigslist.org   4900   NaN   \n",
       "\n",
       "  manufacturer model condition cylinders  ... size  type paint_color  \\\n",
       "0          NaN   NaN       NaN       NaN  ...  NaN   NaN         NaN   \n",
       "1          NaN   NaN       NaN       NaN  ...  NaN   NaN         NaN   \n",
       "2          NaN   NaN       NaN       NaN  ...  NaN   NaN         NaN   \n",
       "3          NaN   NaN       NaN       NaN  ...  NaN   NaN         NaN   \n",
       "4          NaN   NaN       NaN       NaN  ...  NaN   NaN         NaN   \n",
       "\n",
       "  image_url description county state lat long posting_date  \n",
       "0       NaN         NaN    NaN    az NaN  NaN          NaN  \n",
       "1       NaN         NaN    NaN    ar NaN  NaN          NaN  \n",
       "2       NaN         NaN    NaN    fl NaN  NaN          NaN  \n",
       "3       NaN         NaN    NaN    ma NaN  NaN          NaN  \n",
       "4       NaN         NaN    NaN    nc NaN  NaN          NaN  \n",
       "\n",
       "[5 rows x 26 columns]"
      ]
     },
     "execution_count": 7,
     "metadata": {},
     "output_type": "execute_result"
    }
   ],
   "source": [
    "# Afficher les cinq premières lignes du df\n",
    "df.head()"
   ]
  },
  {
   "cell_type": "code",
   "execution_count": 7,
   "id": "a5ef6cd6",
   "metadata": {},
   "outputs": [
    {
     "data": {
      "text/html": [
       "<div>\n",
       "<style scoped>\n",
       "    .dataframe tbody tr th:only-of-type {\n",
       "        vertical-align: middle;\n",
       "    }\n",
       "\n",
       "    .dataframe tbody tr th {\n",
       "        vertical-align: top;\n",
       "    }\n",
       "\n",
       "    .dataframe thead th {\n",
       "        text-align: right;\n",
       "    }\n",
       "</style>\n",
       "<table border=\"1\" class=\"dataframe\">\n",
       "  <thead>\n",
       "    <tr style=\"text-align: right;\">\n",
       "      <th></th>\n",
       "      <th>id</th>\n",
       "      <th>url</th>\n",
       "      <th>region</th>\n",
       "      <th>region_url</th>\n",
       "      <th>price</th>\n",
       "      <th>year</th>\n",
       "      <th>manufacturer</th>\n",
       "      <th>model</th>\n",
       "      <th>condition</th>\n",
       "      <th>cylinders</th>\n",
       "      <th>...</th>\n",
       "      <th>size</th>\n",
       "      <th>type</th>\n",
       "      <th>paint_color</th>\n",
       "      <th>image_url</th>\n",
       "      <th>description</th>\n",
       "      <th>county</th>\n",
       "      <th>state</th>\n",
       "      <th>lat</th>\n",
       "      <th>long</th>\n",
       "      <th>posting_date</th>\n",
       "    </tr>\n",
       "  </thead>\n",
       "  <tbody>\n",
       "    <tr>\n",
       "      <th>426875</th>\n",
       "      <td>7301591192</td>\n",
       "      <td>https://wyoming.craigslist.org/ctd/d/atlanta-2...</td>\n",
       "      <td>wyoming</td>\n",
       "      <td>https://wyoming.craigslist.org</td>\n",
       "      <td>23590</td>\n",
       "      <td>2019.0</td>\n",
       "      <td>nissan</td>\n",
       "      <td>maxima s sedan 4d</td>\n",
       "      <td>good</td>\n",
       "      <td>6 cylinders</td>\n",
       "      <td>...</td>\n",
       "      <td>NaN</td>\n",
       "      <td>sedan</td>\n",
       "      <td>NaN</td>\n",
       "      <td>https://images.craigslist.org/00o0o_iiraFnHg8q...</td>\n",
       "      <td>Carvana is the safer way to buy a car During t...</td>\n",
       "      <td>NaN</td>\n",
       "      <td>wy</td>\n",
       "      <td>33.786500</td>\n",
       "      <td>-84.445400</td>\n",
       "      <td>2021-04-04T03:21:31-0600</td>\n",
       "    </tr>\n",
       "    <tr>\n",
       "      <th>426876</th>\n",
       "      <td>7301591187</td>\n",
       "      <td>https://wyoming.craigslist.org/ctd/d/atlanta-2...</td>\n",
       "      <td>wyoming</td>\n",
       "      <td>https://wyoming.craigslist.org</td>\n",
       "      <td>30590</td>\n",
       "      <td>2020.0</td>\n",
       "      <td>volvo</td>\n",
       "      <td>s60 t5 momentum sedan 4d</td>\n",
       "      <td>good</td>\n",
       "      <td>NaN</td>\n",
       "      <td>...</td>\n",
       "      <td>NaN</td>\n",
       "      <td>sedan</td>\n",
       "      <td>red</td>\n",
       "      <td>https://images.craigslist.org/00x0x_15sbgnxCIS...</td>\n",
       "      <td>Carvana is the safer way to buy a car During t...</td>\n",
       "      <td>NaN</td>\n",
       "      <td>wy</td>\n",
       "      <td>33.786500</td>\n",
       "      <td>-84.445400</td>\n",
       "      <td>2021-04-04T03:21:29-0600</td>\n",
       "    </tr>\n",
       "    <tr>\n",
       "      <th>426877</th>\n",
       "      <td>7301591147</td>\n",
       "      <td>https://wyoming.craigslist.org/ctd/d/atlanta-2...</td>\n",
       "      <td>wyoming</td>\n",
       "      <td>https://wyoming.craigslist.org</td>\n",
       "      <td>34990</td>\n",
       "      <td>2020.0</td>\n",
       "      <td>cadillac</td>\n",
       "      <td>xt4 sport suv 4d</td>\n",
       "      <td>good</td>\n",
       "      <td>NaN</td>\n",
       "      <td>...</td>\n",
       "      <td>NaN</td>\n",
       "      <td>hatchback</td>\n",
       "      <td>white</td>\n",
       "      <td>https://images.craigslist.org/00L0L_farM7bxnxR...</td>\n",
       "      <td>Carvana is the safer way to buy a car During t...</td>\n",
       "      <td>NaN</td>\n",
       "      <td>wy</td>\n",
       "      <td>33.779214</td>\n",
       "      <td>-84.411811</td>\n",
       "      <td>2021-04-04T03:21:17-0600</td>\n",
       "    </tr>\n",
       "    <tr>\n",
       "      <th>426878</th>\n",
       "      <td>7301591140</td>\n",
       "      <td>https://wyoming.craigslist.org/ctd/d/atlanta-2...</td>\n",
       "      <td>wyoming</td>\n",
       "      <td>https://wyoming.craigslist.org</td>\n",
       "      <td>28990</td>\n",
       "      <td>2018.0</td>\n",
       "      <td>lexus</td>\n",
       "      <td>es 350 sedan 4d</td>\n",
       "      <td>good</td>\n",
       "      <td>6 cylinders</td>\n",
       "      <td>...</td>\n",
       "      <td>NaN</td>\n",
       "      <td>sedan</td>\n",
       "      <td>silver</td>\n",
       "      <td>https://images.craigslist.org/00z0z_bKnIVGLkDT...</td>\n",
       "      <td>Carvana is the safer way to buy a car During t...</td>\n",
       "      <td>NaN</td>\n",
       "      <td>wy</td>\n",
       "      <td>33.786500</td>\n",
       "      <td>-84.445400</td>\n",
       "      <td>2021-04-04T03:21:11-0600</td>\n",
       "    </tr>\n",
       "    <tr>\n",
       "      <th>426879</th>\n",
       "      <td>7301591129</td>\n",
       "      <td>https://wyoming.craigslist.org/ctd/d/atlanta-2...</td>\n",
       "      <td>wyoming</td>\n",
       "      <td>https://wyoming.craigslist.org</td>\n",
       "      <td>30590</td>\n",
       "      <td>2019.0</td>\n",
       "      <td>bmw</td>\n",
       "      <td>4 series 430i gran coupe</td>\n",
       "      <td>good</td>\n",
       "      <td>NaN</td>\n",
       "      <td>...</td>\n",
       "      <td>NaN</td>\n",
       "      <td>coupe</td>\n",
       "      <td>NaN</td>\n",
       "      <td>https://images.craigslist.org/00Y0Y_lEUocjyRxa...</td>\n",
       "      <td>Carvana is the safer way to buy a car During t...</td>\n",
       "      <td>NaN</td>\n",
       "      <td>wy</td>\n",
       "      <td>33.779214</td>\n",
       "      <td>-84.411811</td>\n",
       "      <td>2021-04-04T03:21:07-0600</td>\n",
       "    </tr>\n",
       "  </tbody>\n",
       "</table>\n",
       "<p>5 rows × 26 columns</p>\n",
       "</div>"
      ],
      "text/plain": [
       "                id                                                url  \\\n",
       "426875  7301591192  https://wyoming.craigslist.org/ctd/d/atlanta-2...   \n",
       "426876  7301591187  https://wyoming.craigslist.org/ctd/d/atlanta-2...   \n",
       "426877  7301591147  https://wyoming.craigslist.org/ctd/d/atlanta-2...   \n",
       "426878  7301591140  https://wyoming.craigslist.org/ctd/d/atlanta-2...   \n",
       "426879  7301591129  https://wyoming.craigslist.org/ctd/d/atlanta-2...   \n",
       "\n",
       "         region                      region_url  price    year manufacturer  \\\n",
       "426875  wyoming  https://wyoming.craigslist.org  23590  2019.0       nissan   \n",
       "426876  wyoming  https://wyoming.craigslist.org  30590  2020.0        volvo   \n",
       "426877  wyoming  https://wyoming.craigslist.org  34990  2020.0     cadillac   \n",
       "426878  wyoming  https://wyoming.craigslist.org  28990  2018.0        lexus   \n",
       "426879  wyoming  https://wyoming.craigslist.org  30590  2019.0          bmw   \n",
       "\n",
       "                           model condition    cylinders  ... size       type  \\\n",
       "426875         maxima s sedan 4d      good  6 cylinders  ...  NaN      sedan   \n",
       "426876  s60 t5 momentum sedan 4d      good          NaN  ...  NaN      sedan   \n",
       "426877          xt4 sport suv 4d      good          NaN  ...  NaN  hatchback   \n",
       "426878           es 350 sedan 4d      good  6 cylinders  ...  NaN      sedan   \n",
       "426879  4 series 430i gran coupe      good          NaN  ...  NaN      coupe   \n",
       "\n",
       "       paint_color                                          image_url  \\\n",
       "426875         NaN  https://images.craigslist.org/00o0o_iiraFnHg8q...   \n",
       "426876         red  https://images.craigslist.org/00x0x_15sbgnxCIS...   \n",
       "426877       white  https://images.craigslist.org/00L0L_farM7bxnxR...   \n",
       "426878      silver  https://images.craigslist.org/00z0z_bKnIVGLkDT...   \n",
       "426879         NaN  https://images.craigslist.org/00Y0Y_lEUocjyRxa...   \n",
       "\n",
       "                                              description county state  \\\n",
       "426875  Carvana is the safer way to buy a car During t...    NaN    wy   \n",
       "426876  Carvana is the safer way to buy a car During t...    NaN    wy   \n",
       "426877  Carvana is the safer way to buy a car During t...    NaN    wy   \n",
       "426878  Carvana is the safer way to buy a car During t...    NaN    wy   \n",
       "426879  Carvana is the safer way to buy a car During t...    NaN    wy   \n",
       "\n",
       "              lat       long              posting_date  \n",
       "426875  33.786500 -84.445400  2021-04-04T03:21:31-0600  \n",
       "426876  33.786500 -84.445400  2021-04-04T03:21:29-0600  \n",
       "426877  33.779214 -84.411811  2021-04-04T03:21:17-0600  \n",
       "426878  33.786500 -84.445400  2021-04-04T03:21:11-0600  \n",
       "426879  33.779214 -84.411811  2021-04-04T03:21:07-0600  \n",
       "\n",
       "[5 rows x 26 columns]"
      ]
     },
     "execution_count": 7,
     "metadata": {},
     "output_type": "execute_result"
    }
   ],
   "source": [
    "# Afficher les cinq dernières lignes du df\n",
    "df.tail()"
   ]
  },
  {
   "cell_type": "code",
   "execution_count": 8,
   "id": "eed7f20e",
   "metadata": {},
   "outputs": [
    {
     "data": {
      "text/html": [
       "<div>\n",
       "<style scoped>\n",
       "    .dataframe tbody tr th:only-of-type {\n",
       "        vertical-align: middle;\n",
       "    }\n",
       "\n",
       "    .dataframe tbody tr th {\n",
       "        vertical-align: top;\n",
       "    }\n",
       "\n",
       "    .dataframe thead th {\n",
       "        text-align: right;\n",
       "    }\n",
       "</style>\n",
       "<table border=\"1\" class=\"dataframe\">\n",
       "  <thead>\n",
       "    <tr style=\"text-align: right;\">\n",
       "      <th></th>\n",
       "      <th>id</th>\n",
       "      <th>url</th>\n",
       "      <th>region</th>\n",
       "      <th>region_url</th>\n",
       "      <th>price</th>\n",
       "      <th>year</th>\n",
       "      <th>manufacturer</th>\n",
       "      <th>model</th>\n",
       "      <th>condition</th>\n",
       "      <th>cylinders</th>\n",
       "      <th>...</th>\n",
       "      <th>size</th>\n",
       "      <th>type</th>\n",
       "      <th>paint_color</th>\n",
       "      <th>image_url</th>\n",
       "      <th>description</th>\n",
       "      <th>county</th>\n",
       "      <th>state</th>\n",
       "      <th>lat</th>\n",
       "      <th>long</th>\n",
       "      <th>posting_date</th>\n",
       "    </tr>\n",
       "  </thead>\n",
       "  <tbody>\n",
       "    <tr>\n",
       "      <th>159928</th>\n",
       "      <td>7311771881</td>\n",
       "      <td>https://masoncity.craigslist.org/ctd/d/atlanta...</td>\n",
       "      <td>mason city</td>\n",
       "      <td>https://masoncity.craigslist.org</td>\n",
       "      <td>29590</td>\n",
       "      <td>2017.0</td>\n",
       "      <td>ford</td>\n",
       "      <td>expedition xlt sport</td>\n",
       "      <td>good</td>\n",
       "      <td>6 cylinders</td>\n",
       "      <td>...</td>\n",
       "      <td>NaN</td>\n",
       "      <td>SUV</td>\n",
       "      <td>blue</td>\n",
       "      <td>https://images.craigslist.org/00N0N_1xMPvfxRAI...</td>\n",
       "      <td>Carvana is the safer way to buy a car During t...</td>\n",
       "      <td>NaN</td>\n",
       "      <td>ia</td>\n",
       "      <td>33.786500</td>\n",
       "      <td>-84.445400</td>\n",
       "      <td>2021-04-24T06:12:46-0500</td>\n",
       "    </tr>\n",
       "    <tr>\n",
       "      <th>378677</th>\n",
       "      <td>7313359355</td>\n",
       "      <td>https://mcallen.craigslist.org/cto/d/alamo-for...</td>\n",
       "      <td>mcallen / edinburg</td>\n",
       "      <td>https://mcallen.craigslist.org</td>\n",
       "      <td>1</td>\n",
       "      <td>1997.0</td>\n",
       "      <td>ford</td>\n",
       "      <td>f250 xlt</td>\n",
       "      <td>NaN</td>\n",
       "      <td>NaN</td>\n",
       "      <td>...</td>\n",
       "      <td>NaN</td>\n",
       "      <td>truck</td>\n",
       "      <td>NaN</td>\n",
       "      <td>https://images.craigslist.org/00A0A_ZaSvhNnSYc...</td>\n",
       "      <td>1997 Ford F-250 powerstroke diesel for sale 4 ...</td>\n",
       "      <td>NaN</td>\n",
       "      <td>tx</td>\n",
       "      <td>26.204400</td>\n",
       "      <td>-98.153700</td>\n",
       "      <td>2021-04-27T11:07:03-0500</td>\n",
       "    </tr>\n",
       "    <tr>\n",
       "      <th>319334</th>\n",
       "      <td>7314979287</td>\n",
       "      <td>https://medford.craigslist.org/cto/d/ashland-1...</td>\n",
       "      <td>medford-ashland</td>\n",
       "      <td>https://medford.craigslist.org</td>\n",
       "      <td>18000</td>\n",
       "      <td>1972.0</td>\n",
       "      <td>chevrolet</td>\n",
       "      <td>c-10</td>\n",
       "      <td>NaN</td>\n",
       "      <td>NaN</td>\n",
       "      <td>...</td>\n",
       "      <td>NaN</td>\n",
       "      <td>NaN</td>\n",
       "      <td>NaN</td>\n",
       "      <td>https://images.craigslist.org/00s0s_4jBuWdML03...</td>\n",
       "      <td>one owner c-10 short bed stepside. 350 ramjet ...</td>\n",
       "      <td>NaN</td>\n",
       "      <td>or</td>\n",
       "      <td>42.188500</td>\n",
       "      <td>-122.693000</td>\n",
       "      <td>2021-04-30T12:46:05-0700</td>\n",
       "    </tr>\n",
       "    <tr>\n",
       "      <th>182434</th>\n",
       "      <td>7310797642</td>\n",
       "      <td>https://baltimore.craigslist.org/ctd/d/glen-bu...</td>\n",
       "      <td>baltimore</td>\n",
       "      <td>https://baltimore.craigslist.org</td>\n",
       "      <td>25765</td>\n",
       "      <td>2014.0</td>\n",
       "      <td>jeep</td>\n",
       "      <td>wrangler unlimited</td>\n",
       "      <td>NaN</td>\n",
       "      <td>NaN</td>\n",
       "      <td>...</td>\n",
       "      <td>NaN</td>\n",
       "      <td>NaN</td>\n",
       "      <td>NaN</td>\n",
       "      <td>https://images.craigslist.org/00C0C_6PwXFFXGgL...</td>\n",
       "      <td>Browns Honda City address:    712 N Crain Hwy ...</td>\n",
       "      <td>NaN</td>\n",
       "      <td>md</td>\n",
       "      <td>39.176344</td>\n",
       "      <td>-76.617998</td>\n",
       "      <td>2021-04-22T09:49:30-0400</td>\n",
       "    </tr>\n",
       "    <tr>\n",
       "      <th>80141</th>\n",
       "      <td>7306928908</td>\n",
       "      <td>https://fortcollins.craigslist.org/cto/d/lovel...</td>\n",
       "      <td>fort collins / north CO</td>\n",
       "      <td>https://fortcollins.craigslist.org</td>\n",
       "      <td>18500</td>\n",
       "      <td>1981.0</td>\n",
       "      <td>fiat</td>\n",
       "      <td>pininfarina spider</td>\n",
       "      <td>like new</td>\n",
       "      <td>4 cylinders</td>\n",
       "      <td>...</td>\n",
       "      <td>compact</td>\n",
       "      <td>convertible</td>\n",
       "      <td>custom</td>\n",
       "      <td>https://images.craigslist.org/00U0U_1ugz3GuRWq...</td>\n",
       "      <td>1981 Fiat Pininfarina Spider 50th Anniversary ...</td>\n",
       "      <td>NaN</td>\n",
       "      <td>co</td>\n",
       "      <td>40.450709</td>\n",
       "      <td>-105.115471</td>\n",
       "      <td>2021-04-14T16:12:45-0600</td>\n",
       "    </tr>\n",
       "    <tr>\n",
       "      <th>59917</th>\n",
       "      <td>7314059609</td>\n",
       "      <td>https://santamaria.craigslist.org/ctd/d/los-an...</td>\n",
       "      <td>santa maria</td>\n",
       "      <td>https://santamaria.craigslist.org</td>\n",
       "      <td>35000</td>\n",
       "      <td>2015.0</td>\n",
       "      <td>mercedes-benz</td>\n",
       "      <td>benz sprinter 2500 ext</td>\n",
       "      <td>excellent</td>\n",
       "      <td>4 cylinders</td>\n",
       "      <td>...</td>\n",
       "      <td>NaN</td>\n",
       "      <td>van</td>\n",
       "      <td>white</td>\n",
       "      <td>https://images.craigslist.org/00m0m_1vuCRDj0B4...</td>\n",
       "      <td>LA TRUCK GUY 1211 WEST EL SEGUNDO BLVD, GARDEN...</td>\n",
       "      <td>NaN</td>\n",
       "      <td>ca</td>\n",
       "      <td>33.916305</td>\n",
       "      <td>-118.296520</td>\n",
       "      <td>2021-04-28T14:42:20-0700</td>\n",
       "    </tr>\n",
       "    <tr>\n",
       "      <th>87426</th>\n",
       "      <td>7304223643</td>\n",
       "      <td>https://newhaven.craigslist.org/ctd/d/new-have...</td>\n",
       "      <td>new haven</td>\n",
       "      <td>https://newhaven.craigslist.org</td>\n",
       "      <td>25990</td>\n",
       "      <td>2016.0</td>\n",
       "      <td>toyota</td>\n",
       "      <td>tacoma access cab sr5</td>\n",
       "      <td>good</td>\n",
       "      <td>NaN</td>\n",
       "      <td>...</td>\n",
       "      <td>NaN</td>\n",
       "      <td>pickup</td>\n",
       "      <td>silver</td>\n",
       "      <td>https://images.craigslist.org/00w0w_bJYQv4CFjd...</td>\n",
       "      <td>Carvana is the safer way to buy a car During t...</td>\n",
       "      <td>NaN</td>\n",
       "      <td>ct</td>\n",
       "      <td>41.310000</td>\n",
       "      <td>-72.920000</td>\n",
       "      <td>2021-04-09T12:51:19-0400</td>\n",
       "    </tr>\n",
       "    <tr>\n",
       "      <th>81196</th>\n",
       "      <td>7311592765</td>\n",
       "      <td>https://pueblo.craigslist.org/ctd/d/pueblo-201...</td>\n",
       "      <td>pueblo</td>\n",
       "      <td>https://pueblo.craigslist.org</td>\n",
       "      <td>8500</td>\n",
       "      <td>2013.0</td>\n",
       "      <td>ford</td>\n",
       "      <td>edge sel</td>\n",
       "      <td>good</td>\n",
       "      <td>6 cylinders</td>\n",
       "      <td>...</td>\n",
       "      <td>NaN</td>\n",
       "      <td>NaN</td>\n",
       "      <td>NaN</td>\n",
       "      <td>https://images.craigslist.org/00M0M_jEN1EkZSqo...</td>\n",
       "      <td>STOCK#6312 2013 FORD EDGE SEL $8,500 DEALER DE...</td>\n",
       "      <td>NaN</td>\n",
       "      <td>co</td>\n",
       "      <td>38.436857</td>\n",
       "      <td>-104.617504</td>\n",
       "      <td>2021-04-23T15:40:41-0600</td>\n",
       "    </tr>\n",
       "    <tr>\n",
       "      <th>377547</th>\n",
       "      <td>7316191168</td>\n",
       "      <td>https://laredo.craigslist.org/ctd/d/liberty-hi...</td>\n",
       "      <td>laredo</td>\n",
       "      <td>https://laredo.craigslist.org</td>\n",
       "      <td>46995</td>\n",
       "      <td>2014.0</td>\n",
       "      <td>ford</td>\n",
       "      <td>f250 platinum 4x4</td>\n",
       "      <td>NaN</td>\n",
       "      <td>NaN</td>\n",
       "      <td>...</td>\n",
       "      <td>NaN</td>\n",
       "      <td>NaN</td>\n",
       "      <td>NaN</td>\n",
       "      <td>https://images.craigslist.org/00808_hxHMwjOzuF...</td>\n",
       "      <td>CALL OR TEXT 512-914-8066  www.GETADIESEL.com ...</td>\n",
       "      <td>NaN</td>\n",
       "      <td>tx</td>\n",
       "      <td>30.663000</td>\n",
       "      <td>-97.931600</td>\n",
       "      <td>2021-05-03T09:47:33-0500</td>\n",
       "    </tr>\n",
       "    <tr>\n",
       "      <th>126888</th>\n",
       "      <td>7309160947</td>\n",
       "      <td>https://savannah.craigslist.org/ctd/d/savannah...</td>\n",
       "      <td>savannah / hinesville</td>\n",
       "      <td>https://savannah.craigslist.org</td>\n",
       "      <td>31590</td>\n",
       "      <td>2019.0</td>\n",
       "      <td>cadillac</td>\n",
       "      <td>xt4 sport suv 4d</td>\n",
       "      <td>good</td>\n",
       "      <td>NaN</td>\n",
       "      <td>...</td>\n",
       "      <td>NaN</td>\n",
       "      <td>hatchback</td>\n",
       "      <td>black</td>\n",
       "      <td>https://images.craigslist.org/00v0v_Nmw3hmqa7i...</td>\n",
       "      <td>Carvana is the safer way to buy a car During t...</td>\n",
       "      <td>NaN</td>\n",
       "      <td>ga</td>\n",
       "      <td>32.080000</td>\n",
       "      <td>-81.100000</td>\n",
       "      <td>2021-04-19T08:46:59-0400</td>\n",
       "    </tr>\n",
       "  </tbody>\n",
       "</table>\n",
       "<p>10 rows × 26 columns</p>\n",
       "</div>"
      ],
      "text/plain": [
       "                id                                                url  \\\n",
       "159928  7311771881  https://masoncity.craigslist.org/ctd/d/atlanta...   \n",
       "378677  7313359355  https://mcallen.craigslist.org/cto/d/alamo-for...   \n",
       "319334  7314979287  https://medford.craigslist.org/cto/d/ashland-1...   \n",
       "182434  7310797642  https://baltimore.craigslist.org/ctd/d/glen-bu...   \n",
       "80141   7306928908  https://fortcollins.craigslist.org/cto/d/lovel...   \n",
       "59917   7314059609  https://santamaria.craigslist.org/ctd/d/los-an...   \n",
       "87426   7304223643  https://newhaven.craigslist.org/ctd/d/new-have...   \n",
       "81196   7311592765  https://pueblo.craigslist.org/ctd/d/pueblo-201...   \n",
       "377547  7316191168  https://laredo.craigslist.org/ctd/d/liberty-hi...   \n",
       "126888  7309160947  https://savannah.craigslist.org/ctd/d/savannah...   \n",
       "\n",
       "                         region                          region_url  price  \\\n",
       "159928               mason city    https://masoncity.craigslist.org  29590   \n",
       "378677       mcallen / edinburg      https://mcallen.craigslist.org      1   \n",
       "319334          medford-ashland      https://medford.craigslist.org  18000   \n",
       "182434                baltimore    https://baltimore.craigslist.org  25765   \n",
       "80141   fort collins / north CO  https://fortcollins.craigslist.org  18500   \n",
       "59917               santa maria   https://santamaria.craigslist.org  35000   \n",
       "87426                 new haven     https://newhaven.craigslist.org  25990   \n",
       "81196                    pueblo       https://pueblo.craigslist.org   8500   \n",
       "377547                   laredo       https://laredo.craigslist.org  46995   \n",
       "126888    savannah / hinesville     https://savannah.craigslist.org  31590   \n",
       "\n",
       "          year   manufacturer                   model  condition    cylinders  \\\n",
       "159928  2017.0           ford    expedition xlt sport       good  6 cylinders   \n",
       "378677  1997.0           ford                f250 xlt        NaN          NaN   \n",
       "319334  1972.0      chevrolet                    c-10        NaN          NaN   \n",
       "182434  2014.0           jeep      wrangler unlimited        NaN          NaN   \n",
       "80141   1981.0           fiat      pininfarina spider   like new  4 cylinders   \n",
       "59917   2015.0  mercedes-benz  benz sprinter 2500 ext  excellent  4 cylinders   \n",
       "87426   2016.0         toyota   tacoma access cab sr5       good          NaN   \n",
       "81196   2013.0           ford                edge sel       good  6 cylinders   \n",
       "377547  2014.0           ford       f250 platinum 4x4        NaN          NaN   \n",
       "126888  2019.0       cadillac        xt4 sport suv 4d       good          NaN   \n",
       "\n",
       "        ...     size         type paint_color  \\\n",
       "159928  ...      NaN          SUV        blue   \n",
       "378677  ...      NaN        truck         NaN   \n",
       "319334  ...      NaN          NaN         NaN   \n",
       "182434  ...      NaN          NaN         NaN   \n",
       "80141   ...  compact  convertible      custom   \n",
       "59917   ...      NaN          van       white   \n",
       "87426   ...      NaN       pickup      silver   \n",
       "81196   ...      NaN          NaN         NaN   \n",
       "377547  ...      NaN          NaN         NaN   \n",
       "126888  ...      NaN    hatchback       black   \n",
       "\n",
       "                                                image_url  \\\n",
       "159928  https://images.craigslist.org/00N0N_1xMPvfxRAI...   \n",
       "378677  https://images.craigslist.org/00A0A_ZaSvhNnSYc...   \n",
       "319334  https://images.craigslist.org/00s0s_4jBuWdML03...   \n",
       "182434  https://images.craigslist.org/00C0C_6PwXFFXGgL...   \n",
       "80141   https://images.craigslist.org/00U0U_1ugz3GuRWq...   \n",
       "59917   https://images.craigslist.org/00m0m_1vuCRDj0B4...   \n",
       "87426   https://images.craigslist.org/00w0w_bJYQv4CFjd...   \n",
       "81196   https://images.craigslist.org/00M0M_jEN1EkZSqo...   \n",
       "377547  https://images.craigslist.org/00808_hxHMwjOzuF...   \n",
       "126888  https://images.craigslist.org/00v0v_Nmw3hmqa7i...   \n",
       "\n",
       "                                              description county state  \\\n",
       "159928  Carvana is the safer way to buy a car During t...    NaN    ia   \n",
       "378677  1997 Ford F-250 powerstroke diesel for sale 4 ...    NaN    tx   \n",
       "319334  one owner c-10 short bed stepside. 350 ramjet ...    NaN    or   \n",
       "182434  Browns Honda City address:    712 N Crain Hwy ...    NaN    md   \n",
       "80141   1981 Fiat Pininfarina Spider 50th Anniversary ...    NaN    co   \n",
       "59917   LA TRUCK GUY 1211 WEST EL SEGUNDO BLVD, GARDEN...    NaN    ca   \n",
       "87426   Carvana is the safer way to buy a car During t...    NaN    ct   \n",
       "81196   STOCK#6312 2013 FORD EDGE SEL $8,500 DEALER DE...    NaN    co   \n",
       "377547  CALL OR TEXT 512-914-8066  www.GETADIESEL.com ...    NaN    tx   \n",
       "126888  Carvana is the safer way to buy a car During t...    NaN    ga   \n",
       "\n",
       "              lat        long              posting_date  \n",
       "159928  33.786500  -84.445400  2021-04-24T06:12:46-0500  \n",
       "378677  26.204400  -98.153700  2021-04-27T11:07:03-0500  \n",
       "319334  42.188500 -122.693000  2021-04-30T12:46:05-0700  \n",
       "182434  39.176344  -76.617998  2021-04-22T09:49:30-0400  \n",
       "80141   40.450709 -105.115471  2021-04-14T16:12:45-0600  \n",
       "59917   33.916305 -118.296520  2021-04-28T14:42:20-0700  \n",
       "87426   41.310000  -72.920000  2021-04-09T12:51:19-0400  \n",
       "81196   38.436857 -104.617504  2021-04-23T15:40:41-0600  \n",
       "377547  30.663000  -97.931600  2021-05-03T09:47:33-0500  \n",
       "126888  32.080000  -81.100000  2021-04-19T08:46:59-0400  \n",
       "\n",
       "[10 rows x 26 columns]"
      ]
     },
     "execution_count": 8,
     "metadata": {},
     "output_type": "execute_result"
    }
   ],
   "source": [
    "# Affciher les lignes du df, aléatoirement\n",
    "df.sample(n=10)"
   ]
  },
  {
   "cell_type": "code",
   "execution_count": 9,
   "id": "6865e566",
   "metadata": {},
   "outputs": [
    {
     "data": {
      "text/plain": [
       "(426880, 26)"
      ]
     },
     "execution_count": 9,
     "metadata": {},
     "output_type": "execute_result"
    }
   ],
   "source": [
    "# Dimension du df c-a-d le nombre de lignes et colonnes\n",
    "df.shape"
   ]
  },
  {
   "cell_type": "code",
   "execution_count": 10,
   "id": "27d03cea",
   "metadata": {},
   "outputs": [
    {
     "data": {
      "text/plain": [
       "Index(['id', 'url', 'region', 'region_url', 'price', 'year', 'manufacturer',\n",
       "       'model', 'condition', 'cylinders', 'fuel', 'odometer', 'title_status',\n",
       "       'transmission', 'VIN', 'drive', 'size', 'type', 'paint_color',\n",
       "       'image_url', 'description', 'county', 'state', 'lat', 'long',\n",
       "       'posting_date'],\n",
       "      dtype='object')"
      ]
     },
     "execution_count": 10,
     "metadata": {},
     "output_type": "execute_result"
    }
   ],
   "source": [
    "# Nombre de colonnes dans df\n",
    "df.columns"
   ]
  },
  {
   "cell_type": "code",
   "execution_count": 11,
   "id": "355d760d",
   "metadata": {},
   "outputs": [
    {
     "data": {
      "text/plain": [
       "id                int64\n",
       "url              object\n",
       "region           object\n",
       "region_url       object\n",
       "price             int64\n",
       "year            float64\n",
       "manufacturer     object\n",
       "model            object\n",
       "condition        object\n",
       "cylinders        object\n",
       "fuel             object\n",
       "odometer        float64\n",
       "title_status     object\n",
       "transmission     object\n",
       "VIN              object\n",
       "drive            object\n",
       "size             object\n",
       "type             object\n",
       "paint_color      object\n",
       "image_url        object\n",
       "description      object\n",
       "county          float64\n",
       "state            object\n",
       "lat             float64\n",
       "long            float64\n",
       "posting_date     object\n",
       "dtype: object"
      ]
     },
     "execution_count": 11,
     "metadata": {},
     "output_type": "execute_result"
    }
   ],
   "source": [
    "# Le type de données de chaque colonne du df\n",
    "df.dtypes"
   ]
  },
  {
   "cell_type": "markdown",
   "id": "bde3a0c7",
   "metadata": {},
   "source": [
    "La commande ci-dessous, nous permet d'avoir des informations sur le dataset comme le type de données et le nombre total des valeurs non nulles dans chaque colonne.\n",
    "\n",
    "Cela nous permet didentifier les valeurs manquantes et les types de données incorrectes "
   ]
  },
  {
   "cell_type": "code",
   "execution_count": 12,
   "id": "63e49a6f",
   "metadata": {},
   "outputs": [
    {
     "name": "stdout",
     "output_type": "stream",
     "text": [
      "<class 'pandas.core.frame.DataFrame'>\n",
      "RangeIndex: 426880 entries, 0 to 426879\n",
      "Data columns (total 26 columns):\n",
      " #   Column        Non-Null Count   Dtype  \n",
      "---  ------        --------------   -----  \n",
      " 0   id            426880 non-null  int64  \n",
      " 1   url           426880 non-null  object \n",
      " 2   region        426880 non-null  object \n",
      " 3   region_url    426880 non-null  object \n",
      " 4   price         426880 non-null  int64  \n",
      " 5   year          425675 non-null  float64\n",
      " 6   manufacturer  409234 non-null  object \n",
      " 7   model         421603 non-null  object \n",
      " 8   condition     252776 non-null  object \n",
      " 9   cylinders     249202 non-null  object \n",
      " 10  fuel          423867 non-null  object \n",
      " 11  odometer      422480 non-null  float64\n",
      " 12  title_status  418638 non-null  object \n",
      " 13  transmission  424324 non-null  object \n",
      " 14  VIN           265838 non-null  object \n",
      " 15  drive         296313 non-null  object \n",
      " 16  size          120519 non-null  object \n",
      " 17  type          334022 non-null  object \n",
      " 18  paint_color   296677 non-null  object \n",
      " 19  image_url     426812 non-null  object \n",
      " 20  description   426810 non-null  object \n",
      " 21  county        0 non-null       float64\n",
      " 22  state         426880 non-null  object \n",
      " 23  lat           420331 non-null  float64\n",
      " 24  long          420331 non-null  float64\n",
      " 25  posting_date  426812 non-null  object \n",
      "dtypes: float64(5), int64(2), object(19)\n",
      "memory usage: 84.7+ MB\n"
     ]
    }
   ],
   "source": [
    "\n",
    "df.info()"
   ]
  },
  {
   "cell_type": "code",
   "execution_count": 13,
   "id": "1a7acdec",
   "metadata": {},
   "outputs": [
    {
     "data": {
      "text/html": [
       "<div>\n",
       "<style scoped>\n",
       "    .dataframe tbody tr th:only-of-type {\n",
       "        vertical-align: middle;\n",
       "    }\n",
       "\n",
       "    .dataframe tbody tr th {\n",
       "        vertical-align: top;\n",
       "    }\n",
       "\n",
       "    .dataframe thead th {\n",
       "        text-align: right;\n",
       "    }\n",
       "</style>\n",
       "<table border=\"1\" class=\"dataframe\">\n",
       "  <thead>\n",
       "    <tr style=\"text-align: right;\">\n",
       "      <th></th>\n",
       "      <th>id</th>\n",
       "      <th>price</th>\n",
       "      <th>year</th>\n",
       "      <th>odometer</th>\n",
       "      <th>county</th>\n",
       "      <th>lat</th>\n",
       "      <th>long</th>\n",
       "    </tr>\n",
       "  </thead>\n",
       "  <tbody>\n",
       "    <tr>\n",
       "      <th>count</th>\n",
       "      <td>4.268800e+05</td>\n",
       "      <td>4.268800e+05</td>\n",
       "      <td>425675.000000</td>\n",
       "      <td>4.224800e+05</td>\n",
       "      <td>0.0</td>\n",
       "      <td>420331.000000</td>\n",
       "      <td>420331.000000</td>\n",
       "    </tr>\n",
       "    <tr>\n",
       "      <th>mean</th>\n",
       "      <td>7.311487e+09</td>\n",
       "      <td>7.519903e+04</td>\n",
       "      <td>2011.235191</td>\n",
       "      <td>9.804333e+04</td>\n",
       "      <td>NaN</td>\n",
       "      <td>38.493940</td>\n",
       "      <td>-94.748599</td>\n",
       "    </tr>\n",
       "    <tr>\n",
       "      <th>std</th>\n",
       "      <td>4.473170e+06</td>\n",
       "      <td>1.218228e+07</td>\n",
       "      <td>9.452120</td>\n",
       "      <td>2.138815e+05</td>\n",
       "      <td>NaN</td>\n",
       "      <td>5.841533</td>\n",
       "      <td>18.365462</td>\n",
       "    </tr>\n",
       "    <tr>\n",
       "      <th>min</th>\n",
       "      <td>7.207408e+09</td>\n",
       "      <td>0.000000e+00</td>\n",
       "      <td>1900.000000</td>\n",
       "      <td>0.000000e+00</td>\n",
       "      <td>NaN</td>\n",
       "      <td>-84.122245</td>\n",
       "      <td>-159.827728</td>\n",
       "    </tr>\n",
       "    <tr>\n",
       "      <th>25%</th>\n",
       "      <td>7.308143e+09</td>\n",
       "      <td>5.900000e+03</td>\n",
       "      <td>2008.000000</td>\n",
       "      <td>3.770400e+04</td>\n",
       "      <td>NaN</td>\n",
       "      <td>34.601900</td>\n",
       "      <td>-111.939847</td>\n",
       "    </tr>\n",
       "    <tr>\n",
       "      <th>50%</th>\n",
       "      <td>7.312621e+09</td>\n",
       "      <td>1.395000e+04</td>\n",
       "      <td>2013.000000</td>\n",
       "      <td>8.554800e+04</td>\n",
       "      <td>NaN</td>\n",
       "      <td>39.150100</td>\n",
       "      <td>-88.432600</td>\n",
       "    </tr>\n",
       "    <tr>\n",
       "      <th>75%</th>\n",
       "      <td>7.315254e+09</td>\n",
       "      <td>2.648575e+04</td>\n",
       "      <td>2017.000000</td>\n",
       "      <td>1.335425e+05</td>\n",
       "      <td>NaN</td>\n",
       "      <td>42.398900</td>\n",
       "      <td>-80.832039</td>\n",
       "    </tr>\n",
       "    <tr>\n",
       "      <th>max</th>\n",
       "      <td>7.317101e+09</td>\n",
       "      <td>3.736929e+09</td>\n",
       "      <td>2022.000000</td>\n",
       "      <td>1.000000e+07</td>\n",
       "      <td>NaN</td>\n",
       "      <td>82.390818</td>\n",
       "      <td>173.885502</td>\n",
       "    </tr>\n",
       "  </tbody>\n",
       "</table>\n",
       "</div>"
      ],
      "text/plain": [
       "                 id         price           year      odometer  county  \\\n",
       "count  4.268800e+05  4.268800e+05  425675.000000  4.224800e+05     0.0   \n",
       "mean   7.311487e+09  7.519903e+04    2011.235191  9.804333e+04     NaN   \n",
       "std    4.473170e+06  1.218228e+07       9.452120  2.138815e+05     NaN   \n",
       "min    7.207408e+09  0.000000e+00    1900.000000  0.000000e+00     NaN   \n",
       "25%    7.308143e+09  5.900000e+03    2008.000000  3.770400e+04     NaN   \n",
       "50%    7.312621e+09  1.395000e+04    2013.000000  8.554800e+04     NaN   \n",
       "75%    7.315254e+09  2.648575e+04    2017.000000  1.335425e+05     NaN   \n",
       "max    7.317101e+09  3.736929e+09    2022.000000  1.000000e+07     NaN   \n",
       "\n",
       "                 lat           long  \n",
       "count  420331.000000  420331.000000  \n",
       "mean       38.493940     -94.748599  \n",
       "std         5.841533      18.365462  \n",
       "min       -84.122245    -159.827728  \n",
       "25%        34.601900    -111.939847  \n",
       "50%        39.150100     -88.432600  \n",
       "75%        42.398900     -80.832039  \n",
       "max        82.390818     173.885502  "
      ]
     },
     "execution_count": 13,
     "metadata": {},
     "output_type": "execute_result"
    }
   ],
   "source": [
    "#Statistiques descriptives pour les colonnes numériques (moyenne, écart-type, min, max, quartiles)\n",
    "df.describe()"
   ]
  },
  {
   "cell_type": "code",
   "execution_count": 14,
   "id": "caaf7363",
   "metadata": {},
   "outputs": [
    {
     "data": {
      "text/html": [
       "<div>\n",
       "<style scoped>\n",
       "    .dataframe tbody tr th:only-of-type {\n",
       "        vertical-align: middle;\n",
       "    }\n",
       "\n",
       "    .dataframe tbody tr th {\n",
       "        vertical-align: top;\n",
       "    }\n",
       "\n",
       "    .dataframe thead th {\n",
       "        text-align: right;\n",
       "    }\n",
       "</style>\n",
       "<table border=\"1\" class=\"dataframe\">\n",
       "  <thead>\n",
       "    <tr style=\"text-align: right;\">\n",
       "      <th></th>\n",
       "      <th>url</th>\n",
       "      <th>region</th>\n",
       "      <th>region_url</th>\n",
       "      <th>manufacturer</th>\n",
       "      <th>model</th>\n",
       "      <th>condition</th>\n",
       "      <th>cylinders</th>\n",
       "      <th>fuel</th>\n",
       "      <th>title_status</th>\n",
       "      <th>transmission</th>\n",
       "      <th>VIN</th>\n",
       "      <th>drive</th>\n",
       "      <th>size</th>\n",
       "      <th>type</th>\n",
       "      <th>paint_color</th>\n",
       "      <th>image_url</th>\n",
       "      <th>description</th>\n",
       "      <th>state</th>\n",
       "      <th>posting_date</th>\n",
       "    </tr>\n",
       "  </thead>\n",
       "  <tbody>\n",
       "    <tr>\n",
       "      <th>count</th>\n",
       "      <td>426880</td>\n",
       "      <td>426880</td>\n",
       "      <td>426880</td>\n",
       "      <td>409234</td>\n",
       "      <td>421603</td>\n",
       "      <td>252776</td>\n",
       "      <td>249202</td>\n",
       "      <td>423867</td>\n",
       "      <td>418638</td>\n",
       "      <td>424324</td>\n",
       "      <td>265838</td>\n",
       "      <td>296313</td>\n",
       "      <td>120519</td>\n",
       "      <td>334022</td>\n",
       "      <td>296677</td>\n",
       "      <td>426812</td>\n",
       "      <td>426810</td>\n",
       "      <td>426880</td>\n",
       "      <td>426812</td>\n",
       "    </tr>\n",
       "    <tr>\n",
       "      <th>unique</th>\n",
       "      <td>426880</td>\n",
       "      <td>404</td>\n",
       "      <td>413</td>\n",
       "      <td>42</td>\n",
       "      <td>29667</td>\n",
       "      <td>6</td>\n",
       "      <td>8</td>\n",
       "      <td>5</td>\n",
       "      <td>6</td>\n",
       "      <td>3</td>\n",
       "      <td>118264</td>\n",
       "      <td>3</td>\n",
       "      <td>4</td>\n",
       "      <td>13</td>\n",
       "      <td>12</td>\n",
       "      <td>241899</td>\n",
       "      <td>360911</td>\n",
       "      <td>51</td>\n",
       "      <td>381536</td>\n",
       "    </tr>\n",
       "    <tr>\n",
       "      <th>top</th>\n",
       "      <td>https://wyoming.craigslist.org/ctd/d/atlanta-2...</td>\n",
       "      <td>columbus</td>\n",
       "      <td>https://spokane.craigslist.org</td>\n",
       "      <td>ford</td>\n",
       "      <td>f-150</td>\n",
       "      <td>good</td>\n",
       "      <td>6 cylinders</td>\n",
       "      <td>gas</td>\n",
       "      <td>clean</td>\n",
       "      <td>automatic</td>\n",
       "      <td>1FMJU1JT1HEA52352</td>\n",
       "      <td>4wd</td>\n",
       "      <td>full-size</td>\n",
       "      <td>sedan</td>\n",
       "      <td>white</td>\n",
       "      <td>https://images.craigslist.org/00N0N_1xMPvfxRAI...</td>\n",
       "      <td>35 VEHICLES PRICED UNDER $3000!!!  BIG TIME! T...</td>\n",
       "      <td>ca</td>\n",
       "      <td>2021-04-23T22:13:05-0400</td>\n",
       "    </tr>\n",
       "    <tr>\n",
       "      <th>freq</th>\n",
       "      <td>1</td>\n",
       "      <td>3608</td>\n",
       "      <td>2988</td>\n",
       "      <td>70985</td>\n",
       "      <td>8009</td>\n",
       "      <td>121456</td>\n",
       "      <td>94169</td>\n",
       "      <td>356209</td>\n",
       "      <td>405117</td>\n",
       "      <td>336524</td>\n",
       "      <td>261</td>\n",
       "      <td>131904</td>\n",
       "      <td>63465</td>\n",
       "      <td>87056</td>\n",
       "      <td>79285</td>\n",
       "      <td>7357</td>\n",
       "      <td>231</td>\n",
       "      <td>50614</td>\n",
       "      <td>12</td>\n",
       "    </tr>\n",
       "  </tbody>\n",
       "</table>\n",
       "</div>"
      ],
      "text/plain": [
       "                                                      url    region  \\\n",
       "count                                              426880    426880   \n",
       "unique                                             426880       404   \n",
       "top     https://wyoming.craigslist.org/ctd/d/atlanta-2...  columbus   \n",
       "freq                                                    1      3608   \n",
       "\n",
       "                            region_url manufacturer   model condition  \\\n",
       "count                           426880       409234  421603    252776   \n",
       "unique                             413           42   29667         6   \n",
       "top     https://spokane.craigslist.org         ford   f-150      good   \n",
       "freq                              2988        70985    8009    121456   \n",
       "\n",
       "          cylinders    fuel title_status transmission                VIN  \\\n",
       "count        249202  423867       418638       424324             265838   \n",
       "unique            8       5            6            3             118264   \n",
       "top     6 cylinders     gas        clean    automatic  1FMJU1JT1HEA52352   \n",
       "freq          94169  356209       405117       336524                261   \n",
       "\n",
       "         drive       size    type paint_color  \\\n",
       "count   296313     120519  334022      296677   \n",
       "unique       3          4      13          12   \n",
       "top        4wd  full-size   sedan       white   \n",
       "freq    131904      63465   87056       79285   \n",
       "\n",
       "                                                image_url  \\\n",
       "count                                              426812   \n",
       "unique                                             241899   \n",
       "top     https://images.craigslist.org/00N0N_1xMPvfxRAI...   \n",
       "freq                                                 7357   \n",
       "\n",
       "                                              description   state  \\\n",
       "count                                              426810  426880   \n",
       "unique                                             360911      51   \n",
       "top     35 VEHICLES PRICED UNDER $3000!!!  BIG TIME! T...      ca   \n",
       "freq                                                  231   50614   \n",
       "\n",
       "                    posting_date  \n",
       "count                     426812  \n",
       "unique                    381536  \n",
       "top     2021-04-23T22:13:05-0400  \n",
       "freq                          12  "
      ]
     },
     "execution_count": 14,
     "metadata": {},
     "output_type": "execute_result"
    }
   ],
   "source": [
    "# Statistiques descriptives pour des colonnes catégorielles (nombre de valeurs uniques, fréquence des plus courantes).\n",
    "df.describe(include='object')"
   ]
  },
  {
   "cell_type": "markdown",
   "id": "2555d52f",
   "metadata": {},
   "source": [
    "## Nettoyage"
   ]
  },
  {
   "cell_type": "markdown",
   "id": "25def065",
   "metadata": {},
   "source": [
    "Cette partie consiste à manipuler le dataset dans le but de le nettoyer et de le traiter.\n",
    "\n",
    "Pour ce faire, nous allons procéder en gérant les valeurs manquantes, doublons, abbérantes et corriger si nécessaire les types de données des colonnes non conformes\n",
    "\n"
   ]
  },
  {
   "cell_type": "markdown",
   "id": "fbe1d48c",
   "metadata": {},
   "source": [
    "### Gestion des valeurs manquantes"
   ]
  },
  {
   "cell_type": "code",
   "execution_count": 8,
   "id": "7ec50eca",
   "metadata": {},
   "outputs": [
    {
     "name": "stdout",
     "output_type": "stream",
     "text": [
      "id                   0\n",
      "url                  0\n",
      "region               0\n",
      "region_url           0\n",
      "price                0\n",
      "year              1205\n",
      "manufacturer     17646\n",
      "model             5277\n",
      "condition       174104\n",
      "cylinders       177678\n",
      "fuel              3013\n",
      "odometer          4400\n",
      "title_status      8242\n",
      "transmission      2556\n",
      "VIN             161042\n",
      "drive           130567\n",
      "size            306361\n",
      "type             92858\n",
      "paint_color     130203\n",
      "image_url           68\n",
      "description         70\n",
      "county          426880\n",
      "state                0\n",
      "lat               6549\n",
      "long              6549\n",
      "posting_date        68\n",
      "dtype: int64\n"
     ]
    }
   ],
   "source": [
    "# Verifier la présence des valeurs manaquantes\n",
    "valeurs_manquantes = df.isnull().sum()\n",
    "print(valeurs_manquantes)"
   ]
  },
  {
   "cell_type": "markdown",
   "id": "29382ada",
   "metadata": {},
   "source": [
    "#### Imputations des valeurs manquantes \n",
    "1. Analyse des variables **title_status et condition**"
   ]
  },
  {
   "cell_type": "markdown",
   "id": "8b1c14ea",
   "metadata": {},
   "source": [
    "Les variables title_status et condition donnent la même information sur l'état du véhicule. Cependant les valeurs de la colonne *title_status* sont plus réalistes que l'autre colonne.\n",
    "\n",
    "En effet, *title_status* ces observations sont objectives tandis que celles de *condition* sont subjectives c'est à dire basées sur le point de vue du vendeur.  "
   ]
  },
  {
   "cell_type": "code",
   "execution_count": 8,
   "id": "90b5438c",
   "metadata": {},
   "outputs": [
    {
     "data": {
      "text/plain": [
       "array([nan, 'clean', 'rebuilt', 'lien', 'salvage', 'missing',\n",
       "       'parts only'], dtype=object)"
      ]
     },
     "execution_count": 8,
     "metadata": {},
     "output_type": "execute_result"
    }
   ],
   "source": [
    "df['title_status'].unique()"
   ]
  },
  {
   "cell_type": "code",
   "execution_count": null,
   "id": "5e40f161",
   "metadata": {},
   "outputs": [
    {
     "data": {
      "text/plain": [
       "array([nan, 'good', 'excellent', 'fair', 'like new', 'new', 'salvage'],\n",
       "      dtype=object)"
      ]
     },
     "execution_count": 41,
     "metadata": {},
     "output_type": "execute_result"
    }
   ],
   "source": [
    "df['condition'].unique()"
   ]
  },
  {
   "cell_type": "markdown",
   "id": "48c58b3e",
   "metadata": {},
   "source": [
    "*Qu'est-ce qu'une Matrice de Contingence ?*\n",
    "\n",
    "Une matrice de contingence (ou tableau croisé dynamique) est un tableau qui affiche la distribution conjointe de deux variables catégorielles (ou qualitatives). \n",
    "\n",
    "En d'autres termes, elle permet de comprendre comment les fréquences d'une catégorie d'une variable se répartissent selon les catégories d'une autre variable."
   ]
  },
  {
   "cell_type": "code",
   "execution_count": null,
   "id": "6bb3c485",
   "metadata": {},
   "outputs": [
    {
     "name": "stdout",
     "output_type": "stream",
     "text": [
      "\n",
      "Matrice de contingence entre title_status et condition:\n",
      "condition     excellent  fair    good  like new   new  salvage\n",
      "title_status                                                  \n",
      "clean             91734  6156  118461     19870  1226      225\n",
      "lien                586    47     389       265    25        3\n",
      "missing              57   188     208         8     5       49\n",
      "parts only           18    27      29         9     4       41\n",
      "rebuilt            2823   142    1362       791    30       23\n",
      "salvage             880   209     893       235    15      260\n"
     ]
    }
   ],
   "source": [
    "print(\"\\nMatrice de contingence entre title_status et condition:\")\n",
    "contingency_table = pd.crosstab(df['title_status'], df['condition'])\n",
    "print(contingency_table)"
   ]
  },
  {
   "cell_type": "markdown",
   "id": "7f8ee9a2",
   "metadata": {},
   "source": [
    "Le constat montre qu'il y a de forte corrélation, ce qui permet de faire de l'imputation conditionnelle afin de compléter les valeurs NAN de la colonne *condition*\n",
    "\n",
    "Par exemple, nous constatons que:\n",
    "- 91734 voitures sont à la fois *clean et excellent*\n",
    "- 118 461 voitures sont à la fois \"clean et good\"\n",
    "\n",
    "La plupart des voitures sont en *excellent, good* soit en statut *clean* au lieu de *salvage*\n",
    "\n",
    "\n"
   ]
  },
  {
   "cell_type": "markdown",
   "id": "bec534d5",
   "metadata": {},
   "source": [
    "Ici on souhaite observer leur NA"
   ]
  },
  {
   "cell_type": "code",
   "execution_count": 9,
   "id": "415e5f90",
   "metadata": {},
   "outputs": [
    {
     "name": "stdout",
     "output_type": "stream",
     "text": [
      "\n",
      "Matrice de contingence entre title_status et condition avec NaN:\n",
      "condition     excellent  fair    good  like new   new  salvage     NaN\n",
      "title_status                                                          \n",
      "clean             91734  6156  118461     19870  1226      225  167445\n",
      "lien                586    47     389       265    25        3     107\n",
      "missing              57   188     208         8     5       49     299\n",
      "parts only           18    27      29         9     4       41      70\n",
      "rebuilt            2823   142    1362       791    30       23    2048\n",
      "salvage             880   209     893       235    15      260    1376\n",
      "NaN                5369     0     114         0     0        0    2759\n"
     ]
    }
   ],
   "source": [
    "print(\"\\nMatrice de contingence entre title_status et condition avec NaN:\")\n",
    "contingency_table = pd.crosstab(df['title_status'], df['condition'], dropna=False)\n",
    "print(contingency_table)"
   ]
  },
  {
   "cell_type": "markdown",
   "id": "b9d15ad6",
   "metadata": {},
   "source": [
    "Etant donnée que ces deux variables sont corrélées, on peut utiliser l'approche d'imputer les valeurs d'une variable en fonction des valeurs de l'autre variable. Cela s'appelle *l'imputation conditionnelle*"
   ]
  },
  {
   "cell_type": "code",
   "execution_count": 10,
   "id": "76fb8924",
   "metadata": {},
   "outputs": [],
   "source": [
    "# Imputer les valeurs NA de title_status par missing \n",
    "# qui renvoit unknown (non-renseigné)\n",
    "\n",
    "df['title_status'] = df['title_status'].fillna('missing')"
   ]
  },
  {
   "cell_type": "code",
   "execution_count": 11,
   "id": "6936321f",
   "metadata": {},
   "outputs": [
    {
     "data": {
      "text/plain": [
       "0"
      ]
     },
     "execution_count": 11,
     "metadata": {},
     "output_type": "execute_result"
    }
   ],
   "source": [
    "#vérifier qu'il n'y a plus de NA\n",
    "df['title_status'].isna().sum()"
   ]
  },
  {
   "cell_type": "markdown",
   "id": "13672019",
   "metadata": {},
   "source": [
    "Dans la logique, un véhicule présentant un état de statut 'salvage ou endommagé', nous permet de présumer que sa condition sera aussi en mauvaise état qui correspond dans la variable *condition* à 'fear' ou 'salvage'\n",
    "\n",
    "\n",
    "On selectionne les lignes qui ont d'une part une valeur **'NA'** dans la colonne *condition* et d'autre part une valeur **'salvage'** dans la colonne *title_status*\n",
    "\n",
    "Dans l'affichage, seule la colonne **condition** appraitra vu qu'elle est renseigné comme deuxième argument de la location (loc) qui sera affecté par les valeurs *salvage* dans les champs NA.\n",
    "\n",
    "De même avec une valeur *part_only* de la colonne *title_status* va plus correspondre à une condition *salvage ou fear*"
   ]
  },
  {
   "cell_type": "code",
   "execution_count": 12,
   "id": "c31c524a",
   "metadata": {},
   "outputs": [],
   "source": [
    "df.loc[(df['condition'].isnull()) & (df['title_status'] == 'salvage'), 'condition'] = 'salvage'"
   ]
  },
  {
   "cell_type": "code",
   "execution_count": 13,
   "id": "773d5d95",
   "metadata": {},
   "outputs": [],
   "source": [
    "df.loc[(df['condition'].isnull()) & (df['title_status'] == 'parts only'), 'condition'] = 'salvage' # ou 'fair'"
   ]
  },
  {
   "cell_type": "code",
   "execution_count": 14,
   "id": "cc01b288",
   "metadata": {},
   "outputs": [],
   "source": [
    "#la méthode .mode() prend la valeur la plus fréquente\n",
    "df['condition'] = df.groupby('title_status')['condition'].transform(\n",
    "    lambda x: x.fillna(x.mode()[0] \n",
    "                       if not x.mode().empty else 'unknown condition'))"
   ]
  },
  {
   "cell_type": "code",
   "execution_count": 15,
   "id": "d636549f",
   "metadata": {},
   "outputs": [
    {
     "name": "stdout",
     "output_type": "stream",
     "text": [
      "\n",
      "Matrice de contingence entre title_status et condition avec NaN après traitement:\n",
      "condition     excellent  fair    good  like new   new  salvage\n",
      "title_status                                                  \n",
      "clean             91734  6156  285906     19870  1226      225\n",
      "lien                693    47     389       265    25        3\n",
      "missing            8484   188     322         8     5       49\n",
      "parts only           18    27      29         9     4      111\n",
      "rebuilt            4871   142    1362       791    30       23\n",
      "salvage             880   209     893       235    15     1636\n"
     ]
    }
   ],
   "source": [
    "print(\"\\nMatrice de contingence entre title_status et condition avec NaN après traitement:\")\n",
    "contingency_table = pd.crosstab(df['title_status'], df['condition'], dropna=False)\n",
    "print(contingency_table)"
   ]
  },
  {
   "cell_type": "code",
   "execution_count": 16,
   "id": "ff732b41",
   "metadata": {},
   "outputs": [
    {
     "name": "stdout",
     "output_type": "stream",
     "text": [
      "id                   0\n",
      "url                  0\n",
      "region               0\n",
      "region_url           0\n",
      "price                0\n",
      "year              1205\n",
      "manufacturer     17646\n",
      "model             5277\n",
      "condition            0\n",
      "cylinders       177678\n",
      "fuel              3013\n",
      "odometer          4400\n",
      "title_status         0\n",
      "transmission      2556\n",
      "VIN             161042\n",
      "drive           130567\n",
      "size            306361\n",
      "type             92858\n",
      "paint_color     130203\n",
      "image_url           68\n",
      "description         70\n",
      "county          426880\n",
      "state                0\n",
      "lat               6549\n",
      "long              6549\n",
      "posting_date        68\n",
      "dtype: int64\n"
     ]
    }
   ],
   "source": [
    "valeurs_manquantes = df.isnull().sum()\n",
    "print(valeurs_manquantes)"
   ]
  },
  {
   "cell_type": "markdown",
   "id": "bfe6a234",
   "metadata": {},
   "source": [
    "**2. Pour la variable Year et Model**\n",
    "\n",
    "Compte du fait les proportions NaN sont très faible par rapport au dataset, la suppression se présentent comme une solution  de NaN n'aura qu'un impact minime sur le dataset ."
   ]
  },
  {
   "cell_type": "code",
   "execution_count": 17,
   "id": "cb3fcf5a",
   "metadata": {},
   "outputs": [],
   "source": [
    "df.dropna(subset=['year'], inplace=True)"
   ]
  },
  {
   "cell_type": "code",
   "execution_count": 18,
   "id": "bdd99e1f",
   "metadata": {},
   "outputs": [],
   "source": [
    "df.dropna(subset=['model'], inplace=True)"
   ]
  },
  {
   "cell_type": "markdown",
   "id": "1eeb9d10",
   "metadata": {},
   "source": [
    "**3. Sur les variables Transmission, Cylinders, fuel, drive**\n",
    "\n",
    "Nous commencons par identifier les valeurs majoritaires par modèle.\n",
    "\n",
    "Pour ce faire, nous allons créer une série par variable qui va contenir la valeur la plus fréquente pour chaque modèle de voiture.\n",
    "\n",
    "La ligne de code va regrouper les lignes par model, puis appliquer une agrégation pour donner la valeur la plus fréquente. \n",
    "\n",
    "Ensuite, lambda permet de prendre la première valeur pour éviter les blocages en cas d'égalité. Et pour finir, on vérifie qu'il y a bien une valeur dominante, sinon on garde NaN."
   ]
  },
  {
   "cell_type": "markdown",
   "id": "ab6f3e05",
   "metadata": {},
   "source": [
    "**Nettoyage de la colonne Cylinders**"
   ]
  },
  {
   "cell_type": "code",
   "execution_count": 19,
   "id": "07aee973",
   "metadata": {},
   "outputs": [
    {
     "data": {
      "text/plain": [
       "array(['8 cylinders', '6 cylinders', nan, '4 cylinders', '5 cylinders',\n",
       "       'other', '3 cylinders', '10 cylinders', '12 cylinders'],\n",
       "      dtype=object)"
      ]
     },
     "execution_count": 19,
     "metadata": {},
     "output_type": "execute_result"
    }
   ],
   "source": [
    "df['cylinders'].unique()"
   ]
  },
  {
   "cell_type": "markdown",
   "id": "f1872bd8",
   "metadata": {},
   "source": [
    "Nous allons retirer cylinders après les valeurs"
   ]
  },
  {
   "cell_type": "code",
   "execution_count": 20,
   "id": "e3d06db3",
   "metadata": {},
   "outputs": [],
   "source": [
    "df['cylinders'] = df['cylinders'].astype(str).str.replace(r' cylinders', '', regex=True)"
   ]
  },
  {
   "cell_type": "code",
   "execution_count": 21,
   "id": "fc7b1233",
   "metadata": {},
   "outputs": [
    {
     "data": {
      "text/plain": [
       "array(['8', '6', 'nan', '4', '5', 'other', '3', '10', '12'], dtype=object)"
      ]
     },
     "execution_count": 21,
     "metadata": {},
     "output_type": "execute_result"
    }
   ],
   "source": [
    "df['cylinders'].unique()"
   ]
  },
  {
   "cell_type": "markdown",
   "id": "6bd5ce36",
   "metadata": {},
   "source": [
    "Etant donnée que les valeurs NaN de la colonne _cylinders_ est d'environ 174k, alors pour éviter de perder des données, nous allons garder ces lignes et envisager des manières où l'on pourrait imputer ces valeurs."
   ]
  },
  {
   "cell_type": "code",
   "execution_count": 22,
   "id": "485064b5",
   "metadata": {},
   "outputs": [
    {
     "data": {
      "text/plain": [
       "array(['other', 'automatic', 'manual', nan], dtype=object)"
      ]
     },
     "execution_count": 22,
     "metadata": {},
     "output_type": "execute_result"
    }
   ],
   "source": [
    "df['transmission'].unique()"
   ]
  },
  {
   "cell_type": "code",
   "execution_count": 23,
   "id": "37cc0612",
   "metadata": {},
   "outputs": [],
   "source": [
    "# Pour la variable 'drive'\n",
    "mode_drive_par_model = df.groupby('model')['drive'].agg(lambda x: x.mode().iloc[0] if not x.mode().empty else np.nan)\n",
    "\n",
    "# Pour la variable 'cylinders'\n",
    "mode_cyl_par_model = df.groupby('model')['cylinders'].agg(lambda x: x.mode().iloc[0] if not x.mode().empty else np.nan)\n",
    "\n",
    "# Pour la variable 'fuel'\n",
    "mode_cyl_par_model = df.groupby('model')['fuel'].agg(lambda x: x.mode().iloc[0] if not x.mode().empty else np.nan)\n",
    "\n",
    "# Pour la variable 'transmission'\n",
    "mode_cyl_par_model = df.groupby('model')['transmission'].agg(lambda x: x.mode().iloc[0] if not x.mode().empty else np.nan)"
   ]
  },
  {
   "cell_type": "markdown",
   "id": "3a3e4181",
   "metadata": {},
   "source": [
    "Dans cette deuxième étape, nous allons remplir les valeurs manquantes en se basant sur la valeur majoritaire obtenue avec le code précédent.\n",
    "\n",
    "Nous avons appliqué une fonction ligne par ligne pour remplir les valeurs manquantes. Si une ligne avait une valeur manquante dans cette variable, et que le modèle de véhicule était présent dans notre dictionnaire des valeurs majoritaires, nous avons alors remplacé cette valeur par la valeur la plus fréquente observée pour ce modèle. \n",
    "\n",
    "Cette méthode permet une imputation ciblée, cohérente et basée sur les observations du dataset."
   ]
  },
  {
   "cell_type": "code",
   "execution_count": 24,
   "id": "35b6af37",
   "metadata": {},
   "outputs": [],
   "source": [
    "# Remplir les valeurs manquantes de 'drive'\n",
    "df['drive'] = df.apply(\n",
    "    lambda row: mode_drive_par_model[row['model']] if pd.isna(row['drive']) and row['model'] in mode_drive_par_model else row['drive'],\n",
    "    axis=1\n",
    ")\n",
    "\n",
    "# Remplir les valeurs manquantes de 'cylinders'\n",
    "df['cylinders'] = df.apply(\n",
    "    lambda row: mode_cyl_par_model[row['model']] if pd.isna(row['cylinders']) and row['model'] in mode_cyl_par_model else row['cylinders'],\n",
    "    axis=1\n",
    ")\n",
    "\n",
    "# Remplir les valeurs manquantes de 'fuel'\n",
    "df['fuel'] = df.apply(\n",
    "    lambda row: mode_cyl_par_model[row['model']] if pd.isna(row['fuel']) and row['model'] in mode_cyl_par_model else row['fuel'],\n",
    "    axis=1\n",
    ")\n",
    "\n",
    "# Remplir les valeurs manquantes de 'transmission'\n",
    "df['transmission'] = df.apply(\n",
    "    lambda row: mode_cyl_par_model[row['model']] if pd.isna(row['transmission']) and row['model'] in mode_cyl_par_model else row['transmission'],\n",
    "    axis=1\n",
    ")"
   ]
  },
  {
   "cell_type": "code",
   "execution_count": 25,
   "id": "b9615c12",
   "metadata": {},
   "outputs": [
    {
     "name": "stdout",
     "output_type": "stream",
     "text": [
      "id                   0\n",
      "url                  0\n",
      "region               0\n",
      "region_url           0\n",
      "price                0\n",
      "year                 0\n",
      "manufacturer     16446\n",
      "model                0\n",
      "condition            0\n",
      "cylinders            0\n",
      "fuel                16\n",
      "odometer          4317\n",
      "title_status         0\n",
      "transmission       179\n",
      "VIN             157407\n",
      "drive            23525\n",
      "size            301772\n",
      "type             90366\n",
      "paint_color     127118\n",
      "image_url            0\n",
      "description          2\n",
      "county          420466\n",
      "state                0\n",
      "lat               6364\n",
      "long              6364\n",
      "posting_date         0\n",
      "dtype: int64\n"
     ]
    }
   ],
   "source": [
    "valeurs_manquantes = df.isnull().sum()\n",
    "print(valeurs_manquantes)"
   ]
  },
  {
   "cell_type": "markdown",
   "id": "d03e3ab0",
   "metadata": {},
   "source": [
    "**4. Pour la variable Manufacturer, type et paint_color**"
   ]
  },
  {
   "cell_type": "code",
   "execution_count": 26,
   "id": "6e891951",
   "metadata": {},
   "outputs": [
    {
     "data": {
      "text/plain": [
       "array(['gmc', 'chevrolet', 'toyota', 'ford', 'jeep', 'nissan', 'ram',\n",
       "       'mazda', 'cadillac', 'honda', 'dodge', 'lexus', 'jaguar', 'buick',\n",
       "       'chrysler', 'volvo', 'audi', 'infiniti', 'lincoln', 'alfa-romeo',\n",
       "       'subaru', nan, 'acura', 'hyundai', 'mercedes-benz', 'bmw',\n",
       "       'mitsubishi', 'volkswagen', 'porsche', 'kia', 'ferrari', 'mini',\n",
       "       'pontiac', 'fiat', 'rover', 'tesla', 'saturn', 'mercury',\n",
       "       'harley-davidson', 'datsun', 'aston-martin', 'land rover'],\n",
       "      dtype=object)"
      ]
     },
     "execution_count": 26,
     "metadata": {},
     "output_type": "execute_result"
    }
   ],
   "source": [
    "df['manufacturer'].unique()"
   ]
  },
  {
   "cell_type": "code",
   "execution_count": 27,
   "id": "a447b42e",
   "metadata": {},
   "outputs": [
    {
     "data": {
      "text/plain": [
       "array(['white', 'blue', 'red', 'black', 'silver', 'grey', nan, 'brown',\n",
       "       'yellow', 'orange', 'green', 'custom', 'purple'], dtype=object)"
      ]
     },
     "execution_count": 27,
     "metadata": {},
     "output_type": "execute_result"
    }
   ],
   "source": [
    "df['paint_color'].unique()"
   ]
  },
  {
   "cell_type": "markdown",
   "id": "ac3b25b9",
   "metadata": {},
   "source": [
    "Compet tenue que ces variables ont un nombre conséquent de valeurs manquantes et pour éviter de perdre des informations, alors nous alors imputer les NaN par les valeurs 'missing ou unknown' "
   ]
  },
  {
   "cell_type": "code",
   "execution_count": 28,
   "id": "fc2cbd84",
   "metadata": {},
   "outputs": [
    {
     "name": "stderr",
     "output_type": "stream",
     "text": [
      "C:\\Users\\Administrator\\AppData\\Local\\Temp\\ipykernel_4424\\95012608.py:1: FutureWarning: A value is trying to be set on a copy of a DataFrame or Series through chained assignment using an inplace method.\n",
      "The behavior will change in pandas 3.0. This inplace method will never work because the intermediate object on which we are setting values always behaves as a copy.\n",
      "\n",
      "For example, when doing 'df[col].method(value, inplace=True)', try using 'df.method({col: value}, inplace=True)' or df[col] = df[col].method(value) instead, to perform the operation inplace on the original object.\n",
      "\n",
      "\n",
      "  df['manufacturer'].fillna('missing', inplace=True)\n"
     ]
    }
   ],
   "source": [
    "df['manufacturer'].fillna('missing', inplace=True)"
   ]
  },
  {
   "cell_type": "code",
   "execution_count": 29,
   "id": "8e20dc8a",
   "metadata": {},
   "outputs": [
    {
     "name": "stderr",
     "output_type": "stream",
     "text": [
      "C:\\Users\\Administrator\\AppData\\Local\\Temp\\ipykernel_4424\\4091008094.py:1: FutureWarning: A value is trying to be set on a copy of a DataFrame or Series through chained assignment using an inplace method.\n",
      "The behavior will change in pandas 3.0. This inplace method will never work because the intermediate object on which we are setting values always behaves as a copy.\n",
      "\n",
      "For example, when doing 'df[col].method(value, inplace=True)', try using 'df.method({col: value}, inplace=True)' or df[col] = df[col].method(value) instead, to perform the operation inplace on the original object.\n",
      "\n",
      "\n",
      "  df['paint_color'].fillna('missing', inplace=True)\n"
     ]
    }
   ],
   "source": [
    "df['paint_color'].fillna('missing', inplace=True)"
   ]
  },
  {
   "cell_type": "code",
   "execution_count": 30,
   "id": "03d3d448",
   "metadata": {},
   "outputs": [
    {
     "name": "stderr",
     "output_type": "stream",
     "text": [
      "C:\\Users\\Administrator\\AppData\\Local\\Temp\\ipykernel_4424\\1254553570.py:1: FutureWarning: A value is trying to be set on a copy of a DataFrame or Series through chained assignment using an inplace method.\n",
      "The behavior will change in pandas 3.0. This inplace method will never work because the intermediate object on which we are setting values always behaves as a copy.\n",
      "\n",
      "For example, when doing 'df[col].method(value, inplace=True)', try using 'df.method({col: value}, inplace=True)' or df[col] = df[col].method(value) instead, to perform the operation inplace on the original object.\n",
      "\n",
      "\n",
      "  df['type'].fillna('missing', inplace=True)\n"
     ]
    }
   ],
   "source": [
    "df['type'].fillna('missing', inplace=True)"
   ]
  },
  {
   "cell_type": "code",
   "execution_count": 31,
   "id": "51e98fcc",
   "metadata": {},
   "outputs": [],
   "source": [
    "# Et pour le reste\n",
    "\n",
    "df.dropna(subset=['transmission', 'fuel', 'odometer', 'drive'], inplace=True)"
   ]
  },
  {
   "cell_type": "code",
   "execution_count": 32,
   "id": "480c9fd8",
   "metadata": {},
   "outputs": [
    {
     "name": "stdout",
     "output_type": "stream",
     "text": [
      "id                   0\n",
      "url                  0\n",
      "region               0\n",
      "region_url           0\n",
      "price                0\n",
      "year                 0\n",
      "manufacturer         0\n",
      "model                0\n",
      "condition            0\n",
      "cylinders            0\n",
      "fuel                 0\n",
      "odometer             0\n",
      "title_status         0\n",
      "transmission         0\n",
      "VIN             149195\n",
      "drive                0\n",
      "size            275560\n",
      "type                 0\n",
      "paint_color          0\n",
      "image_url            0\n",
      "description          2\n",
      "county          392767\n",
      "state                0\n",
      "lat               6025\n",
      "long              6025\n",
      "posting_date         0\n",
      "dtype: int64\n"
     ]
    }
   ],
   "source": [
    "valeurs_manquantes = df.isnull().sum()\n",
    "print(valeurs_manquantes)"
   ]
  },
  {
   "cell_type": "markdown",
   "id": "08d1fd7f",
   "metadata": {},
   "source": [
    "### Correction des types de données"
   ]
  },
  {
   "cell_type": "code",
   "execution_count": 33,
   "id": "df7ea035",
   "metadata": {},
   "outputs": [],
   "source": [
    "# Conversion de year en numerique\n",
    "df['year'] = pd.to_numeric(df['year'], errors='coerce')"
   ]
  },
  {
   "cell_type": "markdown",
   "id": "b2cef829",
   "metadata": {},
   "source": [
    "**Conversion de la colonne 'posting_date' en format datetime sans les heures**"
   ]
  },
  {
   "cell_type": "code",
   "execution_count": 34,
   "id": "d6a7d3ba",
   "metadata": {},
   "outputs": [],
   "source": [
    "\n",
    "df['posting_date'] = pd.to_datetime(df['posting_date'], errors='coerce', utc=True)\n",
    "df['posting_date'] = df['posting_date'].dt.tz_convert(None).dt.normalize()"
   ]
  },
  {
   "cell_type": "markdown",
   "id": "001b68d4",
   "metadata": {},
   "source": [
    "### Gestion des doublons"
   ]
  },
  {
   "cell_type": "markdown",
   "id": "0489b107",
   "metadata": {},
   "source": [
    "Pour détecter les lignes doubles, nous sommes appuyer sur la colonne VIN qui représente le matricule d'un véhicule et qui doit être unique pour une annonce. "
   ]
  },
  {
   "cell_type": "code",
   "execution_count": 35,
   "id": "cc566d2a",
   "metadata": {},
   "outputs": [
    {
     "data": {
      "text/plain": [
       "False    392767\n",
       "Name: count, dtype: int64"
      ]
     },
     "execution_count": 35,
     "metadata": {},
     "output_type": "execute_result"
    }
   ],
   "source": [
    "df.duplicated().value_counts()"
   ]
  },
  {
   "cell_type": "code",
   "execution_count": 36,
   "id": "5fda96ff",
   "metadata": {},
   "outputs": [
    {
     "data": {
      "text/plain": [
       "149195"
      ]
     },
     "execution_count": 36,
     "metadata": {},
     "output_type": "execute_result"
    }
   ],
   "source": [
    "df['VIN'].isna().sum()"
   ]
  },
  {
   "cell_type": "code",
   "execution_count": 37,
   "id": "1786f322",
   "metadata": {},
   "outputs": [
    {
     "data": {
      "text/plain": [
       "(243572, 26)"
      ]
     },
     "execution_count": 37,
     "metadata": {},
     "output_type": "execute_result"
    }
   ],
   "source": [
    "# Exclure les lignes sans VIN (on ne veut pas les traiter comme doublons)\n",
    "# Je recupère les voitures avec Matricules\n",
    "df_vin_non_null = df[df['VIN'].notna() & (df['VIN'] != '')]\n",
    "df_vin_non_null.shape"
   ]
  },
  {
   "cell_type": "code",
   "execution_count": 38,
   "id": "b5360430",
   "metadata": {},
   "outputs": [
    {
     "data": {
      "text/plain": [
       "(166846, 26)"
      ]
     },
     "execution_count": 38,
     "metadata": {},
     "output_type": "execute_result"
    }
   ],
   "source": [
    "# Dédoublonnage sur (VIN + posting_date) parmi les lignes valides\n",
    "df_vin_dedoublonne = df_vin_non_null.drop_duplicates(subset=['VIN', 'posting_date'])\n",
    "df_vin_dedoublonne.shape"
   ]
  },
  {
   "cell_type": "code",
   "execution_count": 39,
   "id": "d09081c5",
   "metadata": {},
   "outputs": [
    {
     "data": {
      "text/plain": [
       "(149195, 26)"
      ]
     },
     "execution_count": 39,
     "metadata": {},
     "output_type": "execute_result"
    }
   ],
   "source": [
    "# Garder les autres lignes non concernées (avec VIN vide ou NaN)\n",
    "df_sans_vin = df[df['VIN'].isna() | (df['VIN'] == '')]\n",
    "df_sans_vin.shape"
   ]
  },
  {
   "cell_type": "code",
   "execution_count": 40,
   "id": "c75b43c6",
   "metadata": {},
   "outputs": [
    {
     "data": {
      "text/plain": [
       "(316041, 26)"
      ]
     },
     "execution_count": 40,
     "metadata": {},
     "output_type": "execute_result"
    }
   ],
   "source": [
    "# Recombiner les deux\n",
    "df = pd.concat([df_vin_dedoublonne, df_sans_vin], ignore_index=True)\n",
    "df.shape"
   ]
  },
  {
   "cell_type": "markdown",
   "id": "f3145ecb",
   "metadata": {},
   "source": [
    "Conclusion du dédoublonnage :\n",
    "- 77 017 doublons supprimés en utilisant les colonnes 'VIN' + 'Posting_date' (~35%), ce qui montre un très fort taux de repost d'annonce des mêmes voitures dans la même journée\n",
    "- 1 494 doublons supprimés sur en utilisant les colonnes importantes (~1%)\n",
    "Cette suppression évite d'avoir des annonces identiques ou trop proches pour augmenter la qualité de nos analyses"
   ]
  },
  {
   "cell_type": "markdown",
   "id": "5b6986f8",
   "metadata": {},
   "source": [
    "### Gestion des abérrants (outlet)"
   ]
  },
  {
   "cell_type": "markdown",
   "id": "29efd21a",
   "metadata": {},
   "source": [
    "**Pour la variable odometer**\n",
    "\n",
    "On constate qu'il y'a des kilométrages qui sont nulles sachant que nous faisons face à des voitures d'occasion. Dans la logique, les voitures doivent avoir un kilométrage supérieur à 0.\n",
    "\n",
    "Etant donnée que ces lignes sont minimes dans le dataset alors on peut les retirer car elles peuvent induire en erreur par le fait que ces informations ne sont pas adéquates. De plus leur prix sont inférieurs à 0.\n",
    "Il peut s’avérer difficile de revendre une voiture qui a dépassé un certain seuil kilométrique. \n",
    "On estime que le seuil pour les voitures essences et de 120.000 kilomètres, celui des voitures diesel s’élève à 150.000 kilomètres.\n",
    "\n",
    "_source : https://www.mercier-auto.com/guide-achat-auto/combien-de-kilometrage-pour-une-voiture-doccasion/#:~:text=Il%20peut%20s'av%C3%A9rer%20difficile,s'%C3%A9l%C3%A8ve%20%C3%A0%20150.000%20kilom%C3%A8tres._ \n"
   ]
  },
  {
   "cell_type": "code",
   "execution_count": 41,
   "id": "c3ec0b17",
   "metadata": {},
   "outputs": [],
   "source": [
    "#IL FAUT JUSTIFIER NOTRE INTERVALLE\n",
    "df = df[(df['odometer'] >= 100) & (df['odometer'] <= 500000)]"
   ]
  },
  {
   "cell_type": "markdown",
   "id": "85c89f7b",
   "metadata": {},
   "source": [
    "### Suppression des colonnes non nécessaires\n"
   ]
  },
  {
   "cell_type": "markdown",
   "id": "ae9246fc",
   "metadata": {},
   "source": [
    "Ce sont celles qui ne sont assez décisif pour acheter une voiture, que voici:\n",
    "\n",
    "*County* qui n'a aucunes données, spécifie à renseigner le lieu où l'annonce a été postée.\n",
    "\n",
    "*Size* qui contient beaucoup de valeurs manquantes d'ordre 300k, est une variable qu'on peut s'empasser lors des analyses car la variable *Type* donne l'information sur le design du véhicule.\n",
    "\n",
    "*VIN* présente beaucoup de NA d'ordre 100k, n'est nécessaire pour l'analyse car elle symbolise le matricule de la voiture. Le matricule d'une voiture est une donnée qui peut être changeable par son nouveau propriétaire.\n",
    "\n",
    "*Description*  n'a pas de pertinence car elle est similaire à page 'à propos' d'un site. Elle n'apporte pas d'information cruciale sur le véhicule.\n",
    "\n",
    "*lat & long* represente les coordonnées géographiques de l'endroit où l'annonce a été faite.\n",
    "\n",
    "*image_url* non nécessaire pour l'analyse, aussi les liens sont non fonctionnels qui peut être du au fait que l'annonce ait été retiré par l'achat du vehicule ou pas.\n",
    "\n",
    "Enfin les variables *id, url, region, et region_url* certe n'ont aucune valeurs manquantes cependant elles servent à titre d'identifier ou de référence de l'annonce.\n"
   ]
  },
  {
   "cell_type": "code",
   "execution_count": 42,
   "id": "fbef381a",
   "metadata": {},
   "outputs": [],
   "source": [
    "colonnes_a_supprimer = df[['VIN', 'description', 'county', 'id','lat', 'long', \n",
    "                           'size', 'url', 'region', 'region_url', 'image_url']]"
   ]
  },
  {
   "cell_type": "code",
   "execution_count": 43,
   "id": "e12afc65",
   "metadata": {},
   "outputs": [],
   "source": [
    "#Suppression des variables peu utile\n",
    "df.drop(colonnes_a_supprimer, axis=1, inplace=True)"
   ]
  },
  {
   "cell_type": "markdown",
   "id": "4918d7b8",
   "metadata": {},
   "source": [
    "#### Variables Cible :  Prix"
   ]
  },
  {
   "cell_type": "code",
   "execution_count": 44,
   "id": "ac42087f",
   "metadata": {},
   "outputs": [
    {
     "data": {
      "text/plain": [
       "count    3.103950e+05\n",
       "mean     7.306983e+04\n",
       "std      1.282458e+07\n",
       "min      0.000000e+00\n",
       "25%      5.000000e+03\n",
       "50%      1.099500e+04\n",
       "75%      2.129500e+04\n",
       "max      3.736929e+09\n",
       "Name: price, dtype: float64"
      ]
     },
     "execution_count": 44,
     "metadata": {},
     "output_type": "execute_result"
    }
   ],
   "source": [
    "df['price'].describe()"
   ]
  },
  {
   "cell_type": "code",
   "execution_count": 45,
   "id": "056c55cd",
   "metadata": {},
   "outputs": [
    {
     "name": "stdout",
     "output_type": "stream",
     "text": [
      "Nombre de prix à zéro : 23368\n"
     ]
    }
   ],
   "source": [
    "#Suppression des prix qui sont nuls\n",
    "print(f\"Nombre de prix à zéro : {(df['price'] == 0).sum()}\")"
   ]
  },
  {
   "cell_type": "code",
   "execution_count": 46,
   "id": "cf9ab70d",
   "metadata": {},
   "outputs": [],
   "source": [
    "df_cleaned = df[df['price'] != 0].copy()"
   ]
  },
  {
   "cell_type": "code",
   "execution_count": 47,
   "id": "33da1f57",
   "metadata": {},
   "outputs": [
    {
     "data": {
      "text/plain": [
       "(287027, 15)"
      ]
     },
     "execution_count": 47,
     "metadata": {},
     "output_type": "execute_result"
    }
   ],
   "source": [
    "df_cleaned.shape"
   ]
  },
  {
   "cell_type": "code",
   "execution_count": 48,
   "id": "d2476e87",
   "metadata": {},
   "outputs": [
    {
     "data": {
      "text/html": [
       "<div>\n",
       "<style scoped>\n",
       "    .dataframe tbody tr th:only-of-type {\n",
       "        vertical-align: middle;\n",
       "    }\n",
       "\n",
       "    .dataframe tbody tr th {\n",
       "        vertical-align: top;\n",
       "    }\n",
       "\n",
       "    .dataframe thead th {\n",
       "        text-align: right;\n",
       "    }\n",
       "</style>\n",
       "<table border=\"1\" class=\"dataframe\">\n",
       "  <thead>\n",
       "    <tr style=\"text-align: right;\">\n",
       "      <th></th>\n",
       "      <th>price</th>\n",
       "      <th>year</th>\n",
       "      <th>manufacturer</th>\n",
       "      <th>model</th>\n",
       "      <th>condition</th>\n",
       "      <th>cylinders</th>\n",
       "      <th>fuel</th>\n",
       "      <th>odometer</th>\n",
       "      <th>title_status</th>\n",
       "      <th>transmission</th>\n",
       "      <th>drive</th>\n",
       "      <th>type</th>\n",
       "      <th>paint_color</th>\n",
       "      <th>state</th>\n",
       "      <th>posting_date</th>\n",
       "    </tr>\n",
       "  </thead>\n",
       "  <tbody>\n",
       "    <tr>\n",
       "      <th>279178</th>\n",
       "      <td>3736928711</td>\n",
       "      <td>2007.0</td>\n",
       "      <td>toyota</td>\n",
       "      <td>tundra</td>\n",
       "      <td>excellent</td>\n",
       "      <td>8</td>\n",
       "      <td>gas</td>\n",
       "      <td>164000.0</td>\n",
       "      <td>clean</td>\n",
       "      <td>automatic</td>\n",
       "      <td>4wd</td>\n",
       "      <td>pickup</td>\n",
       "      <td>silver</td>\n",
       "      <td>or</td>\n",
       "      <td>2021-04-17</td>\n",
       "    </tr>\n",
       "    <tr>\n",
       "      <th>291475</th>\n",
       "      <td>3736928711</td>\n",
       "      <td>1999.0</td>\n",
       "      <td>toyota</td>\n",
       "      <td>4runner</td>\n",
       "      <td>fair</td>\n",
       "      <td>6</td>\n",
       "      <td>gas</td>\n",
       "      <td>211000.0</td>\n",
       "      <td>clean</td>\n",
       "      <td>automatic</td>\n",
       "      <td>4wd</td>\n",
       "      <td>missing</td>\n",
       "      <td>green</td>\n",
       "      <td>tn</td>\n",
       "      <td>2021-04-06</td>\n",
       "    </tr>\n",
       "    <tr>\n",
       "      <th>196677</th>\n",
       "      <td>3024942282</td>\n",
       "      <td>2000.0</td>\n",
       "      <td>mercedes-benz</td>\n",
       "      <td>benz e320</td>\n",
       "      <td>good</td>\n",
       "      <td>nan</td>\n",
       "      <td>gas</td>\n",
       "      <td>100000.0</td>\n",
       "      <td>clean</td>\n",
       "      <td>automatic</td>\n",
       "      <td>rwd</td>\n",
       "      <td>missing</td>\n",
       "      <td>missing</td>\n",
       "      <td>de</td>\n",
       "      <td>2021-04-20</td>\n",
       "    </tr>\n",
       "    <tr>\n",
       "      <th>257456</th>\n",
       "      <td>3024942282</td>\n",
       "      <td>2000.0</td>\n",
       "      <td>mercedes-benz</td>\n",
       "      <td>benz s430</td>\n",
       "      <td>good</td>\n",
       "      <td>nan</td>\n",
       "      <td>gas</td>\n",
       "      <td>100000.0</td>\n",
       "      <td>clean</td>\n",
       "      <td>automatic</td>\n",
       "      <td>rwd</td>\n",
       "      <td>missing</td>\n",
       "      <td>missing</td>\n",
       "      <td>nj</td>\n",
       "      <td>2021-04-20</td>\n",
       "    </tr>\n",
       "    <tr>\n",
       "      <th>229769</th>\n",
       "      <td>1410065407</td>\n",
       "      <td>1989.0</td>\n",
       "      <td>jeep</td>\n",
       "      <td>wrangler</td>\n",
       "      <td>good</td>\n",
       "      <td>nan</td>\n",
       "      <td>diesel</td>\n",
       "      <td>103000.0</td>\n",
       "      <td>clean</td>\n",
       "      <td>manual</td>\n",
       "      <td>4wd</td>\n",
       "      <td>SUV</td>\n",
       "      <td>missing</td>\n",
       "      <td>md</td>\n",
       "      <td>2021-04-09</td>\n",
       "    </tr>\n",
       "    <tr>\n",
       "      <th>219132</th>\n",
       "      <td>1234567890</td>\n",
       "      <td>2006.0</td>\n",
       "      <td>volvo</td>\n",
       "      <td>vnl</td>\n",
       "      <td>fair</td>\n",
       "      <td>nan</td>\n",
       "      <td>other</td>\n",
       "      <td>200000.0</td>\n",
       "      <td>clean</td>\n",
       "      <td>manual</td>\n",
       "      <td>rwd</td>\n",
       "      <td>missing</td>\n",
       "      <td>black</td>\n",
       "      <td>in</td>\n",
       "      <td>2021-04-11</td>\n",
       "    </tr>\n",
       "    <tr>\n",
       "      <th>176802</th>\n",
       "      <td>1111111111</td>\n",
       "      <td>1999.0</td>\n",
       "      <td>ford</td>\n",
       "      <td>f350 super duty lariat</td>\n",
       "      <td>good</td>\n",
       "      <td>8</td>\n",
       "      <td>diesel</td>\n",
       "      <td>149000.0</td>\n",
       "      <td>clean</td>\n",
       "      <td>automatic</td>\n",
       "      <td>rwd</td>\n",
       "      <td>pickup</td>\n",
       "      <td>white</td>\n",
       "      <td>ca</td>\n",
       "      <td>2021-04-11</td>\n",
       "    </tr>\n",
       "    <tr>\n",
       "      <th>247658</th>\n",
       "      <td>135008900</td>\n",
       "      <td>2008.0</td>\n",
       "      <td>nissan</td>\n",
       "      <td>titan se kingcab</td>\n",
       "      <td>like new</td>\n",
       "      <td>8</td>\n",
       "      <td>gas</td>\n",
       "      <td>110500.0</td>\n",
       "      <td>clean</td>\n",
       "      <td>automatic</td>\n",
       "      <td>4wd</td>\n",
       "      <td>truck</td>\n",
       "      <td>grey</td>\n",
       "      <td>nc</td>\n",
       "      <td>2021-04-16</td>\n",
       "    </tr>\n",
       "    <tr>\n",
       "      <th>83287</th>\n",
       "      <td>123456789</td>\n",
       "      <td>2015.0</td>\n",
       "      <td>chevrolet</td>\n",
       "      <td>cruze</td>\n",
       "      <td>like new</td>\n",
       "      <td>nan</td>\n",
       "      <td>gas</td>\n",
       "      <td>64181.0</td>\n",
       "      <td>clean</td>\n",
       "      <td>automatic</td>\n",
       "      <td>fwd</td>\n",
       "      <td>sedan</td>\n",
       "      <td>red</td>\n",
       "      <td>mi</td>\n",
       "      <td>2021-05-01</td>\n",
       "    </tr>\n",
       "    <tr>\n",
       "      <th>213305</th>\n",
       "      <td>123456789</td>\n",
       "      <td>1999.0</td>\n",
       "      <td>buick</td>\n",
       "      <td>regal</td>\n",
       "      <td>like new</td>\n",
       "      <td>6</td>\n",
       "      <td>gas</td>\n",
       "      <td>96000.0</td>\n",
       "      <td>clean</td>\n",
       "      <td>automatic</td>\n",
       "      <td>fwd</td>\n",
       "      <td>sedan</td>\n",
       "      <td>white</td>\n",
       "      <td>id</td>\n",
       "      <td>2021-04-29</td>\n",
       "    </tr>\n",
       "    <tr>\n",
       "      <th>276644</th>\n",
       "      <td>123456789</td>\n",
       "      <td>1996.0</td>\n",
       "      <td>gmc</td>\n",
       "      <td>sierra 2500</td>\n",
       "      <td>fair</td>\n",
       "      <td>8</td>\n",
       "      <td>gas</td>\n",
       "      <td>320000.0</td>\n",
       "      <td>clean</td>\n",
       "      <td>automatic</td>\n",
       "      <td>4wd</td>\n",
       "      <td>pickup</td>\n",
       "      <td>black</td>\n",
       "      <td>ok</td>\n",
       "      <td>2021-04-07</td>\n",
       "    </tr>\n",
       "    <tr>\n",
       "      <th>167395</th>\n",
       "      <td>99999999</td>\n",
       "      <td>1993.0</td>\n",
       "      <td>ford</td>\n",
       "      <td>ranger</td>\n",
       "      <td>good</td>\n",
       "      <td>nan</td>\n",
       "      <td>gas</td>\n",
       "      <td>99999.0</td>\n",
       "      <td>clean</td>\n",
       "      <td>automatic</td>\n",
       "      <td>rwd</td>\n",
       "      <td>missing</td>\n",
       "      <td>missing</td>\n",
       "      <td>al</td>\n",
       "      <td>2021-05-02</td>\n",
       "    </tr>\n",
       "    <tr>\n",
       "      <th>301409</th>\n",
       "      <td>25003000</td>\n",
       "      <td>1991.0</td>\n",
       "      <td>chevrolet</td>\n",
       "      <td>camaro</td>\n",
       "      <td>fair</td>\n",
       "      <td>6</td>\n",
       "      <td>gas</td>\n",
       "      <td>200000.0</td>\n",
       "      <td>clean</td>\n",
       "      <td>automatic</td>\n",
       "      <td>rwd</td>\n",
       "      <td>missing</td>\n",
       "      <td>missing</td>\n",
       "      <td>tx</td>\n",
       "      <td>2021-04-12</td>\n",
       "    </tr>\n",
       "    <tr>\n",
       "      <th>212863</th>\n",
       "      <td>17000000</td>\n",
       "      <td>2007.0</td>\n",
       "      <td>ram</td>\n",
       "      <td>2500</td>\n",
       "      <td>good</td>\n",
       "      <td>8</td>\n",
       "      <td>diesel</td>\n",
       "      <td>170000.0</td>\n",
       "      <td>rebuilt</td>\n",
       "      <td>automatic</td>\n",
       "      <td>4wd</td>\n",
       "      <td>pickup</td>\n",
       "      <td>black</td>\n",
       "      <td>id</td>\n",
       "      <td>2021-05-03</td>\n",
       "    </tr>\n",
       "    <tr>\n",
       "      <th>290158</th>\n",
       "      <td>11111111</td>\n",
       "      <td>1966.0</td>\n",
       "      <td>chevrolet</td>\n",
       "      <td>c10</td>\n",
       "      <td>good</td>\n",
       "      <td>nan</td>\n",
       "      <td>gas</td>\n",
       "      <td>111111.0</td>\n",
       "      <td>clean</td>\n",
       "      <td>automatic</td>\n",
       "      <td>rwd</td>\n",
       "      <td>missing</td>\n",
       "      <td>missing</td>\n",
       "      <td>tn</td>\n",
       "      <td>2021-05-02</td>\n",
       "    </tr>\n",
       "    <tr>\n",
       "      <th>274487</th>\n",
       "      <td>10004000</td>\n",
       "      <td>2002.0</td>\n",
       "      <td>ford</td>\n",
       "      <td>f350</td>\n",
       "      <td>good</td>\n",
       "      <td>nan</td>\n",
       "      <td>other</td>\n",
       "      <td>215000.0</td>\n",
       "      <td>clean</td>\n",
       "      <td>other</td>\n",
       "      <td>4wd</td>\n",
       "      <td>missing</td>\n",
       "      <td>missing</td>\n",
       "      <td>oh</td>\n",
       "      <td>2021-05-04</td>\n",
       "    </tr>\n",
       "    <tr>\n",
       "      <th>48325</th>\n",
       "      <td>6995495</td>\n",
       "      <td>2014.0</td>\n",
       "      <td>dodge</td>\n",
       "      <td>journey</td>\n",
       "      <td>good</td>\n",
       "      <td>4</td>\n",
       "      <td>gas</td>\n",
       "      <td>135888.0</td>\n",
       "      <td>clean</td>\n",
       "      <td>automatic</td>\n",
       "      <td>fwd</td>\n",
       "      <td>SUV</td>\n",
       "      <td>missing</td>\n",
       "      <td>fl</td>\n",
       "      <td>2021-04-29</td>\n",
       "    </tr>\n",
       "    <tr>\n",
       "      <th>281063</th>\n",
       "      <td>3226714</td>\n",
       "      <td>2002.0</td>\n",
       "      <td>missing</td>\n",
       "      <td>any and all</td>\n",
       "      <td>fair</td>\n",
       "      <td>8</td>\n",
       "      <td>diesel</td>\n",
       "      <td>1234.0</td>\n",
       "      <td>clean</td>\n",
       "      <td>manual</td>\n",
       "      <td>4wd</td>\n",
       "      <td>sedan</td>\n",
       "      <td>blue</td>\n",
       "      <td>pa</td>\n",
       "      <td>2021-04-29</td>\n",
       "    </tr>\n",
       "    <tr>\n",
       "      <th>189292</th>\n",
       "      <td>2000000</td>\n",
       "      <td>2002.0</td>\n",
       "      <td>saturn</td>\n",
       "      <td>l-series l200 4dr sedan</td>\n",
       "      <td>good</td>\n",
       "      <td>4</td>\n",
       "      <td>gas</td>\n",
       "      <td>164290.0</td>\n",
       "      <td>clean</td>\n",
       "      <td>automatic</td>\n",
       "      <td>fwd</td>\n",
       "      <td>sedan</td>\n",
       "      <td>green</td>\n",
       "      <td>ca</td>\n",
       "      <td>2021-04-06</td>\n",
       "    </tr>\n",
       "    <tr>\n",
       "      <th>83585</th>\n",
       "      <td>1234567</td>\n",
       "      <td>2010.0</td>\n",
       "      <td>lincoln</td>\n",
       "      <td>mkt ecoboost</td>\n",
       "      <td>like new</td>\n",
       "      <td>nan</td>\n",
       "      <td>gas</td>\n",
       "      <td>85653.0</td>\n",
       "      <td>clean</td>\n",
       "      <td>automatic</td>\n",
       "      <td>4wd</td>\n",
       "      <td>SUV</td>\n",
       "      <td>custom</td>\n",
       "      <td>mi</td>\n",
       "      <td>2021-04-16</td>\n",
       "    </tr>\n",
       "  </tbody>\n",
       "</table>\n",
       "</div>"
      ],
      "text/plain": [
       "             price    year   manufacturer                    model  condition  \\\n",
       "279178  3736928711  2007.0         toyota                   tundra  excellent   \n",
       "291475  3736928711  1999.0         toyota                  4runner       fair   \n",
       "196677  3024942282  2000.0  mercedes-benz                benz e320       good   \n",
       "257456  3024942282  2000.0  mercedes-benz                benz s430       good   \n",
       "229769  1410065407  1989.0           jeep                 wrangler       good   \n",
       "219132  1234567890  2006.0          volvo                      vnl       fair   \n",
       "176802  1111111111  1999.0           ford   f350 super duty lariat       good   \n",
       "247658   135008900  2008.0         nissan         titan se kingcab   like new   \n",
       "83287    123456789  2015.0      chevrolet                    cruze   like new   \n",
       "213305   123456789  1999.0          buick                    regal   like new   \n",
       "276644   123456789  1996.0            gmc              sierra 2500       fair   \n",
       "167395    99999999  1993.0           ford                   ranger       good   \n",
       "301409    25003000  1991.0      chevrolet                   camaro       fair   \n",
       "212863    17000000  2007.0            ram                     2500       good   \n",
       "290158    11111111  1966.0      chevrolet                      c10       good   \n",
       "274487    10004000  2002.0           ford                     f350       good   \n",
       "48325      6995495  2014.0          dodge                  journey       good   \n",
       "281063     3226714  2002.0        missing              any and all       fair   \n",
       "189292     2000000  2002.0         saturn  l-series l200 4dr sedan       good   \n",
       "83585      1234567  2010.0        lincoln             mkt ecoboost   like new   \n",
       "\n",
       "       cylinders    fuel  odometer title_status transmission drive     type  \\\n",
       "279178         8     gas  164000.0        clean    automatic   4wd   pickup   \n",
       "291475         6     gas  211000.0        clean    automatic   4wd  missing   \n",
       "196677       nan     gas  100000.0        clean    automatic   rwd  missing   \n",
       "257456       nan     gas  100000.0        clean    automatic   rwd  missing   \n",
       "229769       nan  diesel  103000.0        clean       manual   4wd      SUV   \n",
       "219132       nan   other  200000.0        clean       manual   rwd  missing   \n",
       "176802         8  diesel  149000.0        clean    automatic   rwd   pickup   \n",
       "247658         8     gas  110500.0        clean    automatic   4wd    truck   \n",
       "83287        nan     gas   64181.0        clean    automatic   fwd    sedan   \n",
       "213305         6     gas   96000.0        clean    automatic   fwd    sedan   \n",
       "276644         8     gas  320000.0        clean    automatic   4wd   pickup   \n",
       "167395       nan     gas   99999.0        clean    automatic   rwd  missing   \n",
       "301409         6     gas  200000.0        clean    automatic   rwd  missing   \n",
       "212863         8  diesel  170000.0      rebuilt    automatic   4wd   pickup   \n",
       "290158       nan     gas  111111.0        clean    automatic   rwd  missing   \n",
       "274487       nan   other  215000.0        clean        other   4wd  missing   \n",
       "48325          4     gas  135888.0        clean    automatic   fwd      SUV   \n",
       "281063         8  diesel    1234.0        clean       manual   4wd    sedan   \n",
       "189292         4     gas  164290.0        clean    automatic   fwd    sedan   \n",
       "83585        nan     gas   85653.0        clean    automatic   4wd      SUV   \n",
       "\n",
       "       paint_color state posting_date  \n",
       "279178      silver    or   2021-04-17  \n",
       "291475       green    tn   2021-04-06  \n",
       "196677     missing    de   2021-04-20  \n",
       "257456     missing    nj   2021-04-20  \n",
       "229769     missing    md   2021-04-09  \n",
       "219132       black    in   2021-04-11  \n",
       "176802       white    ca   2021-04-11  \n",
       "247658        grey    nc   2021-04-16  \n",
       "83287          red    mi   2021-05-01  \n",
       "213305       white    id   2021-04-29  \n",
       "276644       black    ok   2021-04-07  \n",
       "167395     missing    al   2021-05-02  \n",
       "301409     missing    tx   2021-04-12  \n",
       "212863       black    id   2021-05-03  \n",
       "290158     missing    tn   2021-05-02  \n",
       "274487     missing    oh   2021-05-04  \n",
       "48325      missing    fl   2021-04-29  \n",
       "281063        blue    pa   2021-04-29  \n",
       "189292       green    ca   2021-04-06  \n",
       "83585       custom    mi   2021-04-16  "
      ]
     },
     "execution_count": 48,
     "metadata": {},
     "output_type": "execute_result"
    }
   ],
   "source": [
    "df_cleaned.nlargest(20, 'price')"
   ]
  },
  {
   "cell_type": "markdown",
   "id": "8abc9fd7",
   "metadata": {},
   "source": [
    "Les prix atteignent des montants astronomiques (milliards). \n",
    "Pour une vente de véhicules, de tels chiffres sont hautement improbables et suggèrent très fortement des erreurs de saisie de données. \n",
    "Les prix des voitures sont généralement en milliers ou dizaines de milliers, voire quelques millions pour des véhicules très rares ou de collection, mais jamais dans le domaine du milliard.\n",
    "\n",
    "C'est pourquoi, nous avons filtrer et retenue que les prix raisonnables allons de 1000 à 250000 dollars."
   ]
  },
  {
   "cell_type": "code",
   "execution_count": 49,
   "id": "ee0e41e1",
   "metadata": {},
   "outputs": [
    {
     "data": {
      "text/plain": [
       "(276750, 15)"
      ]
     },
     "execution_count": 49,
     "metadata": {},
     "output_type": "execute_result"
    }
   ],
   "source": [
    "#Delimiter les valeurs du price \n",
    "df_cleaned = df_cleaned[(df_cleaned['price'] >= 1000) & (df_cleaned['price'] <= 250000)]\n",
    "df_cleaned.shape"
   ]
  },
  {
   "cell_type": "code",
   "execution_count": 50,
   "id": "30efd82a",
   "metadata": {},
   "outputs": [
    {
     "data": {
      "image/png": "[encoded data removed]",
      "text/plain": [
       "<Figure size 800x600 with 1 Axes>"
      ]
     },
     "metadata": {},
     "output_type": "display_data"
    }
   ],
   "source": [
    "plt.figure(figsize=(8, 6))\n",
    "sns.boxplot(y=df_cleaned['price'])\n",
    "plt.title('Diagramme en boîte du prix des véhicules')\n",
    "plt.ylabel('Prix')\n",
    "plt.show()"
   ]
  },
  {
   "cell_type": "markdown",
   "id": "bae64cc1",
   "metadata": {},
   "source": []
  },
  {
   "cell_type": "code",
   "execution_count": 54,
   "id": "0096cb1b",
   "metadata": {},
   "outputs": [],
   "source": [
    "#### Transformer le dataframe nettoyé en csv\n",
    "\n",
    "df_cleaned.to_csv('vehicles_clean.csv', index=False)"
   ]
  },
  {
   "cell_type": "markdown",
   "id": "47066c8b",
   "metadata": {},
   "source": [
    "FAIRE UN Graphique PYPLOT"
   ]
  },
  {
   "cell_type": "markdown",
   "id": "dcb21d80",
   "metadata": {},
   "source": [
    "#### Création des variables \n",
    "\n",
    "Calcul du prix/miles = prix / odometer: rapport qualité prix\n",
    "H1: 100miles => Baise de prix 50%"
   ]
  },
  {
   "cell_type": "markdown",
   "id": "b5fda065",
   "metadata": {},
   "source": [
    "## Axes d'analyse"
   ]
  },
  {
   "cell_type": "markdown",
   "id": "1c2a5d69",
   "metadata": {},
   "source": [
    "Sur la variable Price\n",
    "\n",
    "Les marques les dominantes(le plus vendues) par Etats (top 5)\n",
    "Trouver une explicabilités\n",
    "\n",
    "\n",
    "Les ventes selon les Marques => \n",
    "\n"
   ]
  },
  {
   "cell_type": "markdown",
   "id": "cf0fa29e",
   "metadata": {},
   "source": [
    "# Text Mining"
   ]
  },
  {
   "cell_type": "code",
   "execution_count": 2,
   "id": "675f9748",
   "metadata": {},
   "outputs": [
    {
     "name": "stdout",
     "output_type": "stream",
     "text": [
      "Texte extrait :\n",
      "------------------------------\n",
      "Communiqué de presse \n",
      "10 octobre 2024 \n",
      "\n",
      "« Le bon observatoire des véhicules d’occasion », publié \n",
      "par leboncoin automobile, analyse les vrais prix du marché \n",
      "\n",
      "Alors que le marché des véhicules d’occasion affiche une hausse de 6% au mois de \n",
      "septembre,  la  tendance  est  à  une  nouvelle  baisse  des  prix  moyens.  Ce  sont  les \n",
      "enseignements tirés par leboncoin auto qui publie son nouveau baromètre mensuel « \n",
      "le bon observatoire des véhicules d’occasion ». \n",
      "\n",
      "Avec 14,8 millions de visiteurs pa...\n",
      "------------------------------\n"
     ]
    }
   ],
   "source": [
    "from pdfminer.high_level import extract_text\n",
    "import os\n",
    "\n",
    "# Une fonction pour l'extraction du texte dans le pdf\n",
    "def extract_text_from_pdf(pdf_path):\n",
    " \n",
    "    if not os.path.exists(pdf_path):\n",
    "        print(f\"Erreur : Le fichier '{pdf_path}' n'existe pas. Vérifiez le chemin.\")\n",
    "        return None\n",
    "\n",
    "    try:\n",
    "        text = extract_text(pdf_path)\n",
    "        return text\n",
    "    except Exception as e:\n",
    "        print(f\"Erreur lors de l'extraction du texte du PDF : {e}\")\n",
    "        return None\n",
    "\n",
    "\n",
    "pdf_file_path = \"article_VO.pdf\"\n",
    "\n",
    "article_text = extract_text_from_pdf(pdf_file_path)\n",
    "\n",
    "if article_text:\n",
    "    print(f\"Texte extrait :\\n{'-'*30}\\n{article_text[:500]}...\\n{'-'*30}\")\n",
    "else:\n",
    "    print(\"Échec de l'extraction du texte. Le nuage de mots ne pourra pas être généré.\")"
   ]
  },
  {
   "cell_type": "code",
   "execution_count": null,
   "id": "fa13ce1e",
   "metadata": {},
   "outputs": [],
   "source": [
    "#important de télecharger le package de mots de la librairie scapy\n",
    "#  python -m spacy download fr_core_news_sm"
   ]
  },
  {
   "cell_type": "code",
   "execution_count": 3,
   "id": "25a3669f",
   "metadata": {},
   "outputs": [
    {
     "name": "stdout",
     "output_type": "stream",
     "text": [
      "\n",
      "Tokens prétraités (aperçu des 50 premiers) :\n",
      "['communiquer', 'presse', 'octobre', 'bon', 'observatoire', 'véhicule', 'occasion', 'publier', 'leboncoin', 'automobile', 'analyse', 'vrai', 'prix', 'marché', 'marché', 'véhicule', 'occasion', 'affich', 'hausse', 'mois', 'septembre', 'tendance', 'nouveau', 'baisse', 'prix', 'moyen', 'enseignement', 'tirer', 'leboncoin', 'auto', 'publier', 'baromètre', 'mensuel', 'bon', 'observatoire', 'véhicule', 'occasion', 'million', 'visiteur', 'mois', 'leboncoin', 'auto', 'marque', 'préféré', 'français', 'acheter', 'vendre', 'véhicule', 'expert', 'marché']...\n",
      "\n",
      "20 mots les plus fréquents après prétraitement :\n",
      "[('prix', 28), ('véhicule', 19), ('occasion', 19), ('leboncoin', 16), ('marché', 14), ('bon', 8), ('mois', 8), ('septembre', 8), ('professionnel', 8), ('moyen', 7), ('vendre', 7), ('transaction', 7), ('voiture', 7), ('an', 7), ('baisse', 6), ('particulier', 6), ('acheteur', 6), ('auto', 5), ('million', 5), ('annonce', 5)]\n"
     ]
    }
   ],
   "source": [
    "import spacy\n",
    "from collections import Counter\n",
    "import re\n",
    "from wordcloud import WordCloud\n",
    "\n",
    "\n",
    "# Charger le modèle spaCy pour le français\n",
    "try:\n",
    "    nlp = spacy.load(\"fr_core_news_sm\")\n",
    "except OSError:\n",
    "    print(\"Modèle spaCy 'fr_core_news_sm' non trouvé. Veuillez l'installer avec : python -m spacy download fr_core_news_sm\")\n",
    "    exit() # Quitte le script si le modèle n'est pas là\n",
    "\n",
    "def preprocess_text_for_wordcloud(text):\n",
    "\n",
    "    \"\"\"\n",
    "    Prétraite le texte pour un nuage de mots pertinent en français.\n",
    "    Mise en minuscules, suppression de la ponctuation, des nombres, des mots vides et lemmatisation.\n",
    "    \"\"\"\n",
    "    doc = nlp(text.lower()) # Convertir en minuscules et traiter\n",
    "\n",
    "    tokens = []\n",
    "    for token in doc:\n",
    "        # Filtrer :\n",
    "        # - is_punct : Ponctuation\n",
    "        # - is_space : Espaces, retours chariot\n",
    "        # - is_stop : Mots vides (articles, prépositions, conjonctions, etc.)\n",
    "        # - is_alpha : S'assurer que c'est bien une lettre (pas un nombre ou un symbole après filtrage)\n",
    "        # - len(token.lemma_) > 1 : Éliminer les caractères uniques restants\n",
    "        if not token.is_punct and not token.is_space and not token.is_stop and token.is_alpha and len(token.lemma_) > 1:\n",
    "            tokens.append(token.lemma_) # Utiliser la lemmatisation\n",
    "\n",
    "    return tokens\n",
    "\n",
    "if article_text:\n",
    "    processed_tokens = preprocess_text_for_wordcloud(article_text)\n",
    "    print(f\"\\nTokens prétraités (aperçu des 50 premiers) :\\n{processed_tokens[:50]}...\")\n",
    "\n",
    "    # Calculer la fréquence des mots après prétraitement\n",
    "    word_counts = Counter(processed_tokens)\n",
    "    print(f\"\\n20 mots les plus fréquents après prétraitement :\\n{word_counts.most_common(20)}\")\n",
    "else:\n",
    "    print(\"Le texte n'a pas pu être prétraité car il n'a pas été extrait du PDF.\")"
   ]
  },
  {
   "cell_type": "code",
   "execution_count": 6,
   "id": "be4e1b66",
   "metadata": {},
   "outputs": [
    {
     "data": {
      "image/png": "[encoded data removed]",
      "text/plain": [
       "<Figure size 1500x800 with 1 Axes>"
      ]
     },
     "metadata": {},
     "output_type": "display_data"
    }
   ],
   "source": [
    "if processed_tokens:\n",
    "    text_for_wordcloud = \" \".join(processed_tokens)\n",
    "\n",
    "    # Configurer le WordCloud\n",
    "    # 'width' et 'height' : Taille de l'image\n",
    "    # 'background_color' : Couleur de fond\n",
    "    # 'max_words' : Nombre maximal de mots à afficher\n",
    "    # 'min_font_size' : Taille minimale des polices\n",
    "    # 'collocations=False' : Important pour éviter que WordCloud ne regroupe des mots comme \"pomme de\" s'ils ne sont pas un concept unique\n",
    "    # 'stopwords' : Même si déjà filtrés, on peut les repasser pour être sûr (WordCloud a aussi sa propre liste)\n",
    "    #               Pour WordCloud, il faut une liste, pas un set.\n",
    "    french_stopwords = spacy.lang.fr.stop_words.STOP_WORDS # Utilise la liste de mots vides de spaCy\n",
    "\n",
    "    wordcloud = WordCloud(width=1200, height=600,\n",
    "                          background_color='white',\n",
    "                          max_words=100, # Afficher les 100 mots les plus pertinents\n",
    "                          min_font_size=10,\n",
    "                          collocations=False,\n",
    "                          stopwords=french_stopwords # Appliquer les stopwords ici aussi\n",
    "                         ).generate(text_for_wordcloud) # Utiliser la chaîne de tokens prétraités\n",
    "\n",
    "    # Afficher le nuage de mots\n",
    "    plt.figure(figsize=(15, 8))\n",
    "    plt.imshow(wordcloud, interpolation='bilinear')\n",
    "    plt.axis('off') # Cache les axes\n",
    "    plt.title(\"Nuage de mots pertinents de l'article de presse\")\n",
    "    plt.show()\n",
    "else:\n",
    "    print(\"Impossible de générer le nuage de mots car aucun token pertinent n'a été extrait.\")"
   ]
  },
  {
   "cell_type": "code",
   "execution_count": null,
   "id": "4e8c9476",
   "metadata": {},
   "outputs": [],
   "source": []
  }
 ],
 "metadata": {
  "kernelspec": {
   "display_name": "base",
   "language": "python",
   "name": "python3"
  },
  "language_info": {
   "codemirror_mode": {
    "name": "ipython",
    "version": 3
   },
   "file_extension": ".py",
   "mimetype": "text/x-python",
   "name": "python",
   "nbconvert_exporter": "python",
   "pygments_lexer": "ipython3",
   "version": "3.12.3"
  }
 },
 "nbformat": 4,
 "nbformat_minor": 5
}
